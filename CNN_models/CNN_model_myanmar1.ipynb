{
 "cells": [
  {
   "cell_type": "code",
   "execution_count": 1,
   "metadata": {},
   "outputs": [],
   "source": [
    "from sklearn.metrics import classification_report\n",
    "import tensorflow as tf\n",
    "from tensorflow import keras\n",
    "from tensorflow.keras import datasets, layers, models\n",
    "from tensorflow.keras.callbacks import TensorBoard\n",
    "import numpy as np\n",
    "import matplotlib.pyplot as plt\n",
    "\n",
    "import os\n",
    "from tqdm import tqdm\n",
    "import cv2"
   ]
  },
  {
   "cell_type": "code",
   "execution_count": 2,
   "metadata": {},
   "outputs": [
    {
     "data": {
      "image/png": "[encoded data removed]",
      "text/plain": [
       "<Figure size 432x288 with 1 Axes>"
      ]
     },
     "metadata": {
      "needs_background": "light"
     },
     "output_type": "display_data"
    }
   ],
   "source": [
    "data = np.load(\"../Data/Data_Myanmar/training_data_myanmar.npy\", allow_pickle=True)\n",
    "plt.imshow(data[2][0], cmap=\"gray\")\n",
    "plt.show()"
   ]
  },
  {
   "cell_type": "code",
   "execution_count": 3,
   "metadata": {},
   "outputs": [],
   "source": [
    "# Normalize pixel values to be between 0 and 1\n",
    "for pictures in data:\n",
    "  pictures[0] = pictures[0] / 255\n",
    "\n",
    "class_names = [\"cow\", \"cow_cart\", \"elephant_canopy_level\", \"elephant_ground_level\", \"poachers\", \"truck\", \"villagers\", \"three_weel_cart\"]"
   ]
  },
  {
   "cell_type": "code",
   "execution_count": 4,
   "metadata": {},
   "outputs": [],
   "source": [
    "# get the labels\n",
    "def get_labels(data):\n",
    "  images, labels = [], []\n",
    "  for items in data:\n",
    "    images.append(items[0])\n",
    "    labels.append([np.where(items[1] == 1)])\n",
    "  images = np.array(images)\n",
    "  labels = np.array(labels)\n",
    "\n",
    "  return images, labels\n",
    "\n",
    "train_data = data[:2600]\n",
    "test_data = data[2600:]\n",
    "\n",
    "train_images, train_labels = get_labels(train_data)\n",
    "test_images, test_labels = get_labels(test_data)\n",
    "\n",
    "# expand dimmentions for greyscale\n",
    "train_images = tf.expand_dims(train_images, axis=-1)\n",
    "test_images = tf.expand_dims(test_images, axis=-1)\n",
    "train_labels = tf.expand_dims(train_labels, axis=-1)\n",
    "test_labels = tf.expand_dims(test_labels, axis=-1)\n",
    "\n",
    "# labels = tf.expand_dims(labels, axis=-1)\n",
    "# images = tf.expand_dims(images, axis=-1)\n"
   ]
  },
  {
   "cell_type": "code",
   "execution_count": 5,
   "metadata": {},
   "outputs": [
    {
     "name": "stdout",
     "output_type": "stream",
     "text": [
      "Model: \"sequential\"\n",
      "_________________________________________________________________\n",
      "Layer (type)                 Output Shape              Param #   \n",
      "=================================================================\n",
      "conv2d (Conv2D)              (None, 48, 48, 32)        320       \n",
      "_________________________________________________________________\n",
      "max_pooling2d (MaxPooling2D) (None, 24, 24, 32)        0         \n",
      "_________________________________________________________________\n",
      "conv2d_1 (Conv2D)            (None, 22, 22, 64)        18496     \n",
      "_________________________________________________________________\n",
      "max_pooling2d_1 (MaxPooling2 (None, 11, 11, 64)        0         \n",
      "_________________________________________________________________\n",
      "conv2d_2 (Conv2D)            (None, 9, 9, 64)          36928     \n",
      "_________________________________________________________________\n",
      "flatten (Flatten)            (None, 5184)              0         \n",
      "_________________________________________________________________\n",
      "dense (Dense)                (None, 64)                331840    \n",
      "_________________________________________________________________\n",
      "dense_1 (Dense)              (None, 8)                 520       \n",
      "=================================================================\n",
      "Total params: 388,104\n",
      "Trainable params: 388,104\n",
      "Non-trainable params: 0\n",
      "_________________________________________________________________\n"
     ]
    }
   ],
   "source": [
    "# creating th model\n",
    "model = models.Sequential()\n",
    "model.add(layers.Conv2D(32, (3, 3), activation='relu', input_shape=train_images.shape[1:]))\n",
    "model.add(layers.MaxPooling2D((2, 2)))\n",
    "model.add(layers.Conv2D(64, (3, 3), activation='relu'))\n",
    "model.add(layers.MaxPooling2D((2, 2)))\n",
    "model.add(layers.Conv2D(64, (3, 3), activation='relu'))\n",
    "model.add(layers.Flatten())\n",
    "model.add(layers.Dense(64, activation='relu'))\n",
    "model.add(layers.Dense(8))\n",
    "\n",
    "model.summary()  # summary"
   ]
  },
  {
   "cell_type": "code",
   "execution_count": 6,
   "metadata": {},
   "outputs": [
    {
     "name": "stdout",
     "output_type": "stream",
     "text": [
      "Epoch 1/4\n",
      "82/82 [==============================] - 4s 48ms/step - loss: 0.8023 - accuracy: 0.8315 - val_loss: 0.5352 - val_accuracy: 0.8509\n",
      "Epoch 2/4\n",
      "82/82 [==============================] - 3s 39ms/step - loss: 0.4497 - accuracy: 0.8551 - val_loss: 0.3962 - val_accuracy: 0.7946\n",
      "Epoch 3/4\n",
      "82/82 [==============================] - 3s 35ms/step - loss: 0.4244 - accuracy: 0.8061 - val_loss: 0.3490 - val_accuracy: 0.8158\n",
      "Epoch 4/4\n",
      "82/82 [==============================] - 3s 36ms/step - loss: 0.2794 - accuracy: 0.8209 - val_loss: 0.2612 - val_accuracy: 0.7759\n"
     ]
    }
   ],
   "source": [
    "# # Load the TensorBoard notebook extension\n",
    "# %load_ext tensorboard\n",
    "\n",
    "# import datetime, os\n",
    "# logdir = os.path.join(\"logs\", datetime.datetime.now().strftime(\"%Y%m%d-%H%M%S\"))\n",
    "# tensorboard_callback = tf.keras.callbacks.TensorBoard(logdir, histogram_freq=1)\n",
    "\n",
    "model.compile(optimizer='adam',\n",
    "              loss=tf.keras.losses.SparseCategoricalCrossentropy(from_logits=True),\n",
    "              metrics=['accuracy'])\n",
    "\n",
    "history = model.fit(train_images, train_labels, epochs=4, \n",
    "                    validation_data=(test_images, test_labels))\n",
    "\n",
    "# With tensorboard\n",
    "# history = model.fit(images, labels, epochs=4, \n",
    "#                     validation_split=0.2, callbacks=[tensorboard])"
   ]
  },
  {
   "cell_type": "code",
   "execution_count": 7,
   "metadata": {},
   "outputs": [
    {
     "name": "stdout",
     "output_type": "stream",
     "text": [
      "11/11 - 0s - loss: 0.2612 - accuracy: 0.7759\n",
      "0.7759122848510742\n"
     ]
    }
   ],
   "source": [
    "test_loss, test_acc = model.evaluate(test_images, test_labels, verbose=2)\n",
    "print(test_acc)"
   ]
  },
  {
   "cell_type": "code",
   "execution_count": 8,
   "metadata": {},
   "outputs": [
    {
     "data": {
      "text/plain": [
       "array([-1.6800535 , -2.6296282 ,  0.17966728,  3.698901  ,  0.8536564 ,\n",
       "        2.8628402 ,  6.121823  , -2.1294541 ], dtype=float32)"
      ]
     },
     "execution_count": 8,
     "metadata": {},
     "output_type": "execute_result"
    }
   ],
   "source": [
    "predictions = model.predict_on_batch(test_images)\n",
    "predictions[5]"
   ]
  },
  {
   "cell_type": "code",
   "execution_count": 9,
   "metadata": {},
   "outputs": [],
   "source": [
    "# # launch tensorboard\n",
    "# %tensorboard --logdir logs\n",
    "test = tf.reshape(test_labels, [328])\n",
    "# test_labels.shape"
   ]
  },
  {
   "cell_type": "code",
   "execution_count": 10,
   "metadata": {},
   "outputs": [
    {
     "name": "stdout",
     "output_type": "stream",
     "text": [
      "              precision    recall  f1-score   support\n",
      "\n",
      "           0       0.00      0.00      0.00         7\n",
      "           2       1.00      0.38      0.55         8\n",
      "           3       0.00      0.00      0.00         4\n",
      "           4       0.50      0.33      0.40         3\n",
      "           5       0.89      0.92      0.91        26\n",
      "           6       0.94      0.99      0.96       280\n",
      "\n",
      "    accuracy                           0.93       328\n",
      "   macro avg       0.55      0.44      0.47       328\n",
      "weighted avg       0.90      0.93      0.91       328\n",
      "\n"
     ]
    },
    {
     "name": "stderr",
     "output_type": "stream",
     "text": [
      "C:\\Users\\Siebren\\anaconda3\\lib\\site-packages\\tensorflow\\python\\keras\\engine\\sequential.py:450: UserWarning: `model.predict_classes()` is deprecated and will be removed after 2021-01-01. Please use instead:* `np.argmax(model.predict(x), axis=-1)`,   if your model does multi-class classification   (e.g. if it uses a `softmax` last-layer activation).* `(model.predict(x) > 0.5).astype(\"int32\")`,   if your model does binary classification   (e.g. if it uses a `sigmoid` last-layer activation).\n",
      "  warnings.warn('`model.predict_classes()` is deprecated and '\n",
      "C:\\Users\\Siebren\\anaconda3\\lib\\site-packages\\sklearn\\metrics\\_classification.py:1221: UndefinedMetricWarning: Precision and F-score are ill-defined and being set to 0.0 in labels with no predicted samples. Use `zero_division` parameter to control this behavior.\n",
      "  _warn_prf(average, modifier, msg_start, len(result))\n"
     ]
    }
   ],
   "source": [
    "# score per class\n",
    "Y_test = tf.reshape(test_labels, [328])\n",
    "# Y_test = np.argmax(y_pred, axis=1) # Convert one-hot to index\n",
    "y_pred = model.predict_classes(test_images)\n",
    "\n",
    "print(classification_report(Y_test, y_pred))"
   ]
  },
  {
   "cell_type": "code",
   "execution_count": null,
   "metadata": {},
   "outputs": [],
   "source": []
  }
 ],
 "metadata": {
  "kernelspec": {
   "display_name": "Python 3",
   "language": "python",
   "name": "python3"
  },
  "language_info": {
   "codemirror_mode": {
    "name": "ipython",
    "version": 3
   },
   "file_extension": ".py",
   "mimetype": "text/x-python",
   "name": "python",
   "nbconvert_exporter": "python",
   "pygments_lexer": "ipython3",
   "version": "3.8.5"
  }
 },
 "nbformat": 4,
 "nbformat_minor": 4
}
