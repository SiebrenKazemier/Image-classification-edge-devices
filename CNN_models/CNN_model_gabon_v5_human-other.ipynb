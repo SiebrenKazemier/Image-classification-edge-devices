{
 "cells": [
  {
   "cell_type": "code",
   "execution_count": 27,
   "metadata": {},
   "outputs": [],
   "source": [
    "from sklearn.metrics import classification_report\n",
    "import tensorflow as tf\n",
    "from tensorflow import keras\n",
    "from tensorflow.keras import datasets, layers, models\n",
    "from tensorflow.keras.callbacks import TensorBoard\n",
    "import numpy as np\n",
    "import matplotlib.pyplot as plt\n",
    "\n",
    "from sklearn.metrics import confusion_matrix\n",
    "from sklearn.model_selection import train_test_split\n",
    "import datetime, os\n",
    "\n",
    "import os\n",
    "from tqdm import tqdm\n",
    "import cv2\n",
    "import seaborn as sn\n",
    "import pandas as pd\n",
    "import random as rn"
   ]
  },
  {
   "cell_type": "code",
   "execution_count": 2,
   "metadata": {},
   "outputs": [],
   "source": [
    "np.random.seed(37)\n",
    "rn.seed(1254)\n",
    "tf.random.set_seed(89)"
   ]
  },
  {
   "cell_type": "code",
   "execution_count": 3,
   "metadata": {},
   "outputs": [],
   "source": [
    "label_count = {'Human': 34999, 'Blank': 35000, 'Elephant_African': 34999, 'Hog_Red_River': 26069, 'Buffalo_African': 6459, 'Leopard_African': 2142, 'Monkey': 5038, 'Duiker_Blue': 35000, 'Duiker_Red': 34999, 'Porcupine_Brush_Tailed': 13694, 'Rodent': 1358, 'Squirrel': 11348, 'Rat_Giant': 34225, 'Guineafowl_Crested': 1513, 'Duiker_Yellow_Backed': 15436, 'Guineafowl_Black': 12054, 'Mongoose': 5518, 'Rail_Nkulengu': 3269, 'Chimpanzee': 5260, 'Bird': 6649, 'Genet': 3303, 'Gorilla': 1074, 'Pangolin': 872, 'Mongoose_Black_Footed': 1475, 'Mandrillus': 9305, 'Civet_African_Palm': 936, 'Chevrotain_Water': 4713, 'Cat_Golden': 406}"
   ]
  },
  {
   "cell_type": "code",
   "execution_count": 4,
   "metadata": {},
   "outputs": [
    {
     "data": {
      "image/png": "[encoded data removed]",
      "text/plain": [
       "<Figure size 432x288 with 1 Axes>"
      ]
     },
     "metadata": {
      "needs_background": "light"
     },
     "output_type": "display_data"
    }
   ],
   "source": [
    "data = np.load(\"C:/Users/Siebren/Data_science/Data/Data_Gabon/training_data_gabon.npy\", allow_pickle=True)\n",
    "plt.imshow(data[2][0], cmap=\"gray\")\n",
    "plt.show()"
   ]
  },
  {
   "cell_type": "code",
   "execution_count": 5,
   "metadata": {},
   "outputs": [
    {
     "data": {
      "text/plain": [
       "347113"
      ]
     },
     "execution_count": 5,
     "metadata": {},
     "output_type": "execute_result"
    }
   ],
   "source": [
    "len(data)"
   ]
  },
  {
   "cell_type": "code",
   "execution_count": 6,
   "metadata": {},
   "outputs": [
    {
     "data": {
      "text/plain": [
       "140890"
      ]
     },
     "execution_count": 6,
     "metadata": {},
     "output_type": "execute_result"
    }
   ],
   "source": [
    "# select pictures of each class.\n",
    "new_data = []\n",
    "counter = {}\n",
    "for i in data:\n",
    "    if i[1] not in counter.keys():\n",
    "        counter[i[1]] = 0\n",
    "        \n",
    "for picture in data:\n",
    "    if picture[1] == 0:\n",
    "        new_data.append(picture)\n",
    "        img = tf.keras.preprocessing.image.img_to_array(data[2][0])  # convert image to numpy arry\n",
    "        aug_img = tf.image.flip_left_right(img)\n",
    "        aug_img = tf.reshape(aug_img, picture[0].shape)\n",
    "        new_data.append([aug_img, picture[1]])\n",
    "        counter[picture[1]] += 1\n",
    "    elif picture[1] in counter.keys():\n",
    "        if counter[picture[1]] != 1400:\n",
    "            counter[picture[1]] += 1\n",
    "            picture[1] = 1\n",
    "            img = tf.keras.preprocessing.image.img_to_array(data[2][0])  # convert image to numpy arry\n",
    "            aug_img = tf.image.flip_left_right(img)\n",
    "            aug_img = tf.reshape(aug_img, picture[0].shape)\n",
    "            new_data.append([aug_img, picture[1]])\n",
    "            new_data.append(picture)\n",
    "len(new_data)"
   ]
  },
  {
   "cell_type": "code",
   "execution_count": 7,
   "metadata": {},
   "outputs": [],
   "source": [
    "# Normalize pixel values to be between 0 and 1\n",
    "for pictures in data:\n",
    "    pictures[0] = pictures[0] / 255"
   ]
  },
  {
   "cell_type": "code",
   "execution_count": 8,
   "metadata": {},
   "outputs": [
    {
     "name": "stdout",
     "output_type": "stream",
     "text": [
      "{1: 70892, 0: 69998}\n"
     ]
    }
   ],
   "source": [
    "# check labels\n",
    "label_count = {}\n",
    "for items, labels in new_data:\n",
    "    if labels in label_count:\n",
    "        label_count[labels] += 1\n",
    "    else:\n",
    "        label_count[labels] = 1\n",
    "print(label_count)"
   ]
  },
  {
   "cell_type": "code",
   "execution_count": 9,
   "metadata": {},
   "outputs": [],
   "source": [
    "# get the labels\n",
    "def get_labels(data):\n",
    "    images, labels = [], []\n",
    "    for items in data:\n",
    "        images.append(items[0])\n",
    "        labels.append(items[1])\n",
    "    images = np.array(images)\n",
    "    labels = np.array(labels)\n",
    "\n",
    "    return images, labels\n",
    "\n",
    "images, labels = get_labels(new_data)"
   ]
  },
  {
   "cell_type": "code",
   "execution_count": 10,
   "metadata": {},
   "outputs": [],
   "source": [
    "X_train, X_test, y_train, y_test = train_test_split(images, labels, test_size=0.2, random_state=1)\n",
    "X_train, X_val, y_train, y_val = train_test_split(X_train, y_train, test_size=0.25, random_state=1) # 0.25 x 0.8 = 0.2"
   ]
  },
  {
   "cell_type": "code",
   "execution_count": 11,
   "metadata": {},
   "outputs": [],
   "source": [
    "# reduce dimentions\n",
    "X_train = tf.expand_dims(X_train, axis=-1)\n",
    "X_test = tf.expand_dims(X_test, axis=-1)\n",
    "X_val = tf.expand_dims(X_test, axis=-1)\n",
    "y_train = tf.expand_dims(y_train, axis=-1)\n",
    "y_test = tf.expand_dims(y_test, axis=-1)\n",
    "y_val = tf.expand_dims(y_test, axis=-1)\n",
    "\n",
    "# set initializer\n",
    "initializer = tf.keras.initializers.RandomNormal(mean=0.0, stddev=0.05, seed=42)"
   ]
  },
  {
   "cell_type": "code",
   "execution_count": 12,
   "metadata": {},
   "outputs": [
    {
     "name": "stdout",
     "output_type": "stream",
     "text": [
      "Model: \"sequential\"\n",
      "_________________________________________________________________\n",
      "Layer (type)                 Output Shape              Param #   \n",
      "=================================================================\n",
      "conv2d (Conv2D)              (None, 50, 50, 16)        160       \n",
      "_________________________________________________________________\n",
      "max_pooling2d (MaxPooling2D) (None, 25, 25, 16)        0         \n",
      "_________________________________________________________________\n",
      "conv2d_1 (Conv2D)            (None, 25, 25, 32)        4640      \n",
      "_________________________________________________________________\n",
      "max_pooling2d_1 (MaxPooling2 (None, 12, 12, 32)        0         \n",
      "_________________________________________________________________\n",
      "conv2d_2 (Conv2D)            (None, 12, 12, 64)        18496     \n",
      "_________________________________________________________________\n",
      "flatten (Flatten)            (None, 9216)              0         \n",
      "_________________________________________________________________\n",
      "dense (Dense)                (None, 180)               1659060   \n",
      "_________________________________________________________________\n",
      "dense_1 (Dense)              (None, 1)                 181       \n",
      "=================================================================\n",
      "Total params: 1,682,537\n",
      "Trainable params: 1,682,537\n",
      "Non-trainable params: 0\n",
      "_________________________________________________________________\n"
     ]
    }
   ],
   "source": [
    "# creating the model\n",
    "model = models.Sequential()\n",
    "model.add(layers.Conv2D(16, (3, 3), activation='relu', input_shape=X_train.shape[1:], padding=\"same\", kernel_initializer=initializer, bias_initializer=initializer))\n",
    "model.add(layers.MaxPooling2D((2, 2)))\n",
    "model.add(layers.Conv2D(32, (3, 3), activation='relu', padding=\"same\", kernel_initializer=initializer, bias_initializer=initializer))\n",
    "model.add(layers.MaxPooling2D((2, 2)))\n",
    "model.add(layers.Conv2D(64, (3, 3), activation='relu', padding=\"same\", kernel_initializer=initializer, bias_initializer=initializer))\n",
    "\n",
    "model.add(layers.Flatten())\n",
    "# model.add(layers.Dropout(0.3))\n",
    "model.add(layers.Dense(180, activation='relu', kernel_initializer=initializer, bias_initializer=initializer))\n",
    "\n",
    "model.add(layers.Dense(1, activation='sigmoid')) # <---- change ending layers!!!\n",
    "\n",
    "model.summary()  # summary"
   ]
  },
  {
   "cell_type": "code",
   "execution_count": 13,
   "metadata": {},
   "outputs": [
    {
     "name": "stdout",
     "output_type": "stream",
     "text": [
      "Epoch 1/10\n",
      "2642/2642 [==============================] - 88s 33ms/step - loss: 0.5525 - accuracy: 0.6827 - val_loss: 0.4687 - val_accuracy: 0.7008\n",
      "Epoch 2/10\n",
      "2642/2642 [==============================] - 86s 33ms/step - loss: 0.4622 - accuracy: 0.7031 - val_loss: 0.4552 - val_accuracy: 0.7102\n",
      "Epoch 3/10\n",
      "2642/2642 [==============================] - 89s 34ms/step - loss: 0.4468 - accuracy: 0.7097 - val_loss: 0.4467 - val_accuracy: 0.7140\n",
      "Epoch 4/10\n",
      "2642/2642 [==============================] - 87s 33ms/step - loss: 0.4314 - accuracy: 0.7145 - val_loss: 0.4254 - val_accuracy: 0.7238\n",
      "Epoch 5/10\n",
      "2642/2642 [==============================] - 91s 34ms/step - loss: 0.4150 - accuracy: 0.7265 - val_loss: 0.4156 - val_accuracy: 0.7216\n",
      "Epoch 6/10\n",
      "2642/2642 [==============================] - 86s 33ms/step - loss: 0.4028 - accuracy: 0.7311 - val_loss: 0.4091 - val_accuracy: 0.7308\n",
      "Epoch 7/10\n",
      "2642/2642 [==============================] - 85s 32ms/step - loss: 0.3899 - accuracy: 0.7326 - val_loss: 0.4095 - val_accuracy: 0.7281\n",
      "Epoch 8/10\n",
      "2642/2642 [==============================] - 85s 32ms/step - loss: 0.3819 - accuracy: 0.7376 - val_loss: 0.4033 - val_accuracy: 0.7355\n",
      "Epoch 9/10\n",
      "2642/2642 [==============================] - 88s 33ms/step - loss: 0.3713 - accuracy: 0.7411 - val_loss: 0.4067 - val_accuracy: 0.7349\n",
      "Epoch 10/10\n",
      "2642/2642 [==============================] - 90s 34ms/step - loss: 0.3684 - accuracy: 0.7408 - val_loss: 0.4078 - val_accuracy: 0.7287\n"
     ]
    }
   ],
   "source": [
    "# logdir = os.path.join(\"logs\", datetime.datetime.now().strftime(\"%Y%m%d-%H%M%S\"))\n",
    "# tensorboard_callback = tf.keras.callbacks.TensorBoard(logdir, histogram_freq=1)\n",
    "\n",
    "\n",
    "model.compile(optimizer='adam',\n",
    "              loss='binary_crossentropy',\n",
    "              metrics=['accuracy'])\n",
    "\n",
    "# With tensorboard\n",
    "history = model.fit(X_train, y_train, epochs=10, batch_size = 32,\n",
    "                    validation_data=(X_val, y_val))\n",
    "\n",
    "# With tensorboard\n",
    "# history = model.fit(X_train, y_train, epochs=10, batch_size = 32,\n",
    "#                     validation_data=(X_val, y_val), callbacks=[tensorboard_callback])"
   ]
  },
  {
   "cell_type": "code",
   "execution_count": 14,
   "metadata": {},
   "outputs": [
    {
     "name": "stdout",
     "output_type": "stream",
     "text": [
      "881/881 [==============================] - 6s 7ms/step - loss: 0.4078 - accuracy: 0.7287\n",
      "0.7286890745162964\n"
     ]
    }
   ],
   "source": [
    "test_loss, test_acc = model.evaluate(X_test, y_test, verbose=1)\n",
    "print(test_acc)"
   ]
  },
  {
   "cell_type": "code",
   "execution_count": 15,
   "metadata": {},
   "outputs": [
    {
     "data": {
      "text/plain": [
       "<matplotlib.legend.Legend at 0x18865c32ac0>"
      ]
     },
     "execution_count": 15,
     "metadata": {},
     "output_type": "execute_result"
    },
    {
     "data": {
      "image/png": "[encoded data removed]",
      "text/plain": [
       "<Figure size 432x288 with 1 Axes>"
      ]
     },
     "metadata": {
      "needs_background": "light"
     },
     "output_type": "display_data"
    }
   ],
   "source": [
    "# launch tensorboard\n",
    "# %tensorboard --logdir logs --host localhost\n",
    "# %tensorboard --logdir logs \n",
    "\n",
    "# plot results\n",
    "plt.plot(history.history['accuracy'], label='train_accuracy')\n",
    "plt.plot(history.history['val_accuracy'], label = 'val_accuracy')\n",
    "plt.xlabel('Epoch')\n",
    "plt.ylabel('Accuracy')\n",
    "plt.ylim([0.5, 1])\n",
    "plt.legend(loc='lower right')\n"
   ]
  },
  {
   "cell_type": "code",
   "execution_count": 16,
   "metadata": {},
   "outputs": [
    {
     "data": {
      "text/plain": [
       "<matplotlib.legend.Legend at 0x18864792ca0>"
      ]
     },
     "execution_count": 16,
     "metadata": {},
     "output_type": "execute_result"
    },
    {
     "data": {
      "image/png": "[encoded data removed]",
      "text/plain": [
       "<Figure size 432x288 with 1 Axes>"
      ]
     },
     "metadata": {
      "needs_background": "light"
     },
     "output_type": "display_data"
    }
   ],
   "source": [
    "# plot results\n",
    "plt.plot(history.history['loss'], label='train_loss')\n",
    "plt.plot(history.history['val_loss'], label = 'train_loss')\n",
    "plt.xlabel('Epoch')\n",
    "plt.ylabel('Accuracy')\n",
    "plt.ylim([0, 1])\n",
    "plt.legend(loc='lower right')"
   ]
  },
  {
   "cell_type": "code",
   "execution_count": 17,
   "metadata": {},
   "outputs": [
    {
     "name": "stdout",
     "output_type": "stream",
     "text": [
      "Human 13940 / 13623\n",
      "Other 14238 / 6910\n"
     ]
    }
   ],
   "source": [
    "def pred_values(X_test, y_test):    \n",
    "    predictions = model.predict(X_test)\n",
    "    count_zero, count_one = 0, 0\n",
    "    for label in y_test:\n",
    "        if label == 0:\n",
    "            count_zero += 1\n",
    "        elif label == 1:\n",
    "            count_one += 1\n",
    "\n",
    "    correct_classified = {0:0, 1:0}\n",
    "    for i in range(len(predictions)):\n",
    "        if int(round(predictions[i][0])) == 0 and y_test[i].numpy()[0] == 0:\n",
    "            correct_classified[0] += 1\n",
    "        elif int(round(predictions[i][0])) == 1 and y_test[i].numpy()[0] == 1:\n",
    "            correct_classified[1] += 1\n",
    "\n",
    "    print(\"Human \" + str(count_zero) + \" / \" + str(correct_classified[0]))\n",
    "    print(\"Other \" + str(count_one) + \" / \" + str(correct_classified[1]))\n",
    "    \n",
    "pred_values(X_test, y_test)"
   ]
  },
  {
   "cell_type": "code",
   "execution_count": 18,
   "metadata": {},
   "outputs": [],
   "source": [
    "# model.save('Models/model_V3.h5')"
   ]
  },
  {
   "cell_type": "code",
   "execution_count": 19,
   "metadata": {},
   "outputs": [],
   "source": [
    "# # Convert the model.\n",
    "# converter = tf.lite.TFLiteConverter.from_keras_model(model)\n",
    "# tflite_model = converter.convert()\n",
    "\n",
    "# # Save the model.\n",
    "# with open('Models/model.tflite', 'wb') as f:\n",
    "#     f.write(tflite_model)"
   ]
  },
  {
   "cell_type": "markdown",
   "metadata": {},
   "source": [
    "# Test on myanmar data"
   ]
  },
  {
   "cell_type": "code",
   "execution_count": 20,
   "metadata": {},
   "outputs": [
    {
     "name": "stdout",
     "output_type": "stream",
     "text": [
      "0\n"
     ]
    },
    {
     "data": {
      "image/png": "[encoded data removed]",
      "text/plain": [
       "<Figure size 432x288 with 1 Axes>"
      ]
     },
     "metadata": {
      "needs_background": "light"
     },
     "output_type": "display_data"
    }
   ],
   "source": [
    "myanmar_data = np.load(\"C:/Users/Siebren/Data_science/Data/Data_Myanmar/testing_data_myanmar_for_gabon_model.npy\", allow_pickle=True)\n",
    "\n",
    "i = 4\n",
    "plt.imshow(myanmar_data[i][0], cmap=\"gray\")\n",
    "print(myanmar_data[i][1])\n",
    "plt.show()"
   ]
  },
  {
   "cell_type": "code",
   "execution_count": 21,
   "metadata": {},
   "outputs": [],
   "source": [
    "pictures_myan = []\n",
    "labels_myan = []\n",
    "\n",
    "# Normalize pixel values to be between 0 and 1\n",
    "for pic in myanmar_data:\n",
    "    pic[0] = pic[0] / 255\n",
    "\n",
    "for picture_myan, label_myan in myanmar_data:\n",
    "    if label_myan > 0:\n",
    "        label_myan = 1\n",
    "    pictures_myan.append(picture_myan)\n",
    "    labels_myan.append(label_myan)"
   ]
  },
  {
   "cell_type": "code",
   "execution_count": 22,
   "metadata": {},
   "outputs": [],
   "source": [
    "pictures_myan = np.array(pictures_myan)\n",
    "labels_myan = np.array(labels_myan)\n",
    "\n",
    "pictures_myan = tf.expand_dims(pictures_myan, axis=-1)\n",
    "labels_myan = tf.expand_dims(labels_myan, axis=-1)"
   ]
  },
  {
   "cell_type": "code",
   "execution_count": 23,
   "metadata": {},
   "outputs": [
    {
     "name": "stdout",
     "output_type": "stream",
     "text": [
      "92/92 [==============================] - 1s 5ms/step - loss: 5.5302 - accuracy: 0.1749\n",
      "0.17486338317394257\n"
     ]
    }
   ],
   "source": [
    "test_loss, test_acc = model.evaluate(pictures_myan, labels_myan, verbose=1)\n",
    "print(test_acc)"
   ]
  },
  {
   "cell_type": "code",
   "execution_count": 24,
   "metadata": {},
   "outputs": [
    {
     "name": "stdout",
     "output_type": "stream",
     "text": [
      "Human 2562 / 189\n",
      "Other 366 / 323\n"
     ]
    }
   ],
   "source": [
    "pred_values(pictures_myan, labels_myan)"
   ]
  },
  {
   "cell_type": "code",
   "execution_count": null,
   "metadata": {},
   "outputs": [],
   "source": []
  },
  {
   "cell_type": "code",
   "execution_count": 26,
   "metadata": {},
   "outputs": [
    {
     "name": "stdout",
     "output_type": "stream",
     "text": [
      "Human 27 / 4\n",
      "Other 0 / 0\n"
     ]
    }
   ],
   "source": [
    "poachers_data = np.load(\"C:/Users/Siebren/Data_science/Data/Data_Myanmar/training_data_myanmar.npy\", allow_pickle=True)\n",
    "\n",
    "poachers_img = []\n",
    "poachers_labels = []\n",
    "\n",
    "# Normalize pixel values to be between 0 and 1\n",
    "for pic in poachers_data:\n",
    "    pic[0] = pic[0] / 255\n",
    "    \n",
    "for i in poachers_data:\n",
    "    if i[1].argmax() == 4:\n",
    "        i[1] = 0\n",
    "        poachers_img.append(i[0])\n",
    "        poachers_labels.append(i[1])\n",
    "\n",
    "poachers_img  = np.array(poachers_img)\n",
    "poachers_labels = np.array(poachers_labels)\n",
    "\n",
    "poachers_img = tf.expand_dims(poachers_img, axis=-1)\n",
    "poachers_labels = tf.expand_dims(poachers_labels, axis=-1)\n",
    "\n",
    "pred_values(poachers_img, poachers_labels)"
   ]
  },
  {
   "cell_type": "code",
   "execution_count": null,
   "metadata": {},
   "outputs": [],
   "source": []
  }
 ],
 "metadata": {
  "kernelspec": {
   "display_name": "Python 3",
   "language": "python",
   "name": "python3"
  },
  "language_info": {
   "codemirror_mode": {
    "name": "ipython",
    "version": 3
   },
   "file_extension": ".py",
   "mimetype": "text/x-python",
   "name": "python",
   "nbconvert_exporter": "python",
   "pygments_lexer": "ipython3",
   "version": "3.8.5"
  }
 },
 "nbformat": 4,
 "nbformat_minor": 4
}
