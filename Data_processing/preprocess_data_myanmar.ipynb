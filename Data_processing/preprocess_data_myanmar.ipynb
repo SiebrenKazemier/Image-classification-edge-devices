{
 "cells": [
  {
   "cell_type": "code",
   "execution_count": 21,
   "metadata": {},
   "outputs": [],
   "source": [
    "from sklearn.metrics import classification_report\n",
    "import tensorflow as tf\n",
    "from tensorflow import keras\n",
    "from tensorflow.keras import datasets, layers, models\n",
    "from tensorflow.keras.callbacks import TensorBoard\n",
    "import numpy as np\n",
    "import matplotlib.pyplot as plt\n",
    "\n",
    "import os\n",
    "from tqdm import tqdm\n",
    "import cv2"
   ]
  },
  {
   "cell_type": "code",
   "execution_count": 22,
   "metadata": {},
   "outputs": [
    {
     "name": "stdout",
     "output_type": "stream",
     "text": [
      "3 Wheel Cart\n",
      "Cow\n",
      "Cow Cart\n",
      "Elephant_ canopy level\n",
      "Elephant_ ground level\n",
      "Poachers\n",
      "training_data_myanmar.npy\n",
      "Truck\n",
      "Villagers\n"
     ]
    }
   ],
   "source": [
    "# collect data from folders\n",
    "entries = os.listdir('../Data/Data_Myanmar/Camera Trap Photos_Tags')\n",
    "for entrie in entries:\n",
    "  print(entrie)"
   ]
  },
  {
   "cell_type": "code",
   "execution_count": 23,
   "metadata": {},
   "outputs": [],
   "source": [
    "class myanmarImg():\n",
    "  IMG_SIZE = 50\n",
    "\n",
    "  LINK = \"../Data/Data_Myanmar/Camera Trap Photos_Tags/\"\n",
    "  COW = LINK + \"Cow\"\n",
    "  COW_CART = LINK + \"Cow Cart\"\n",
    "  ELEPHANT_CANOPY_LEVEL = LINK + \"Elephant_ canopy level\"\n",
    "  ELEPHANT_GROUND_LEVEL = LINK + \"Elephant_ ground level\"\n",
    "  POACHERS = LINK + \"Poachers\"\n",
    "  TRUCK = LINK + \"Truck\"\n",
    "  VILLAGERS = LINK + \"Villagers\"\n",
    "  THREE_WEEL_CART = LINK + \"3 Wheel Cart\"\n",
    "\n",
    "  LABELS = {COW:0, COW_CART:1, ELEPHANT_CANOPY_LEVEL:2, ELEPHANT_GROUND_LEVEL:3, POACHERS:4, TRUCK:5, VILLAGERS:6, THREE_WEEL_CART:7}\n",
    "\n",
    "  training_data = []\n",
    "\n",
    "  cow_count, cow_cart_count, elephant_canopy_level_count, elephant_ground_level_count, poachers_count, truck_count, villagers_count, three_weel_cart_count = 0, 0, 0, 0, 0, 0, 0, 0\n",
    "\n",
    "  def make_training_data(self):\n",
    "    for label in self.LABELS:\n",
    "      print(label)\n",
    "      for f in tqdm(os.listdir(label)):\n",
    "        try:\n",
    "          path = os.path.join(label, f)\n",
    "          img = cv2.imread(path, cv2.IMREAD_GRAYSCALE)\n",
    "          img = cv2.resize(img, (self.IMG_SIZE, self.IMG_SIZE))\n",
    "          self.training_data.append([np.array(img), np.eye(8)[self.LABELS[label]]])\n",
    "\n",
    "          if label == self.COW:\n",
    "            self.cow_count += 1\n",
    "          elif label == self.COW_CART:\n",
    "            self.cow_cart_count += 1\n",
    "          elif label == self.ELEPHANT_CANOPY_LEVEL:\n",
    "            self.elephant_canopy_level_count += 1\n",
    "          elif label == self.ELEPHANT_GROUND_LEVEL:\n",
    "            self.elephant_ground_level_count += 1\n",
    "          elif label == self.POACHERS:\n",
    "            self.poachers_count += 1\n",
    "          elif label == self.TRUCK:\n",
    "            self.truck_count += 1\n",
    "          elif label == self.VILLAGERS:\n",
    "            self.villagers_count += 1\n",
    "          elif label == self.THREE_WEEL_CART:\n",
    "            self.three_weel_cart_count += 1\n",
    "        except Exception as e:\n",
    "          print(str(e))\n",
    "\n",
    "    np.random.shuffle(self.training_data)\n",
    "#     np.save(\"../Data/Data_Myanmar/Camera Trap Photos_Tags/training_data_myanmar.npy\", self.training_data)\n",
    "    \n",
    "    print(\"Cow: \", self.cow_count)\n",
    "    print(\"Cow cart: \", self.cow_cart_count)\n",
    "    print(\"Elephant canopy level: \", self.elephant_canopy_level_count)\n",
    "    print(\"Elephant ground level: \", self.elephant_ground_level_count)\n",
    "    print(\"Poachers: \", self.poachers_count)\n",
    "    print(\"Truck: \", self.truck_count)\n",
    "    print(\"Villagers: \", self.villagers_count)\n",
    "    print(\"Three weel cart: \", self.three_weel_cart_count)\n",
    "    \n",
    "    return self.training_data"
   ]
  },
  {
   "cell_type": "code",
   "execution_count": 24,
   "metadata": {},
   "outputs": [
    {
     "name": "stderr",
     "output_type": "stream",
     "text": [
      " 17%|█▋        | 11/65 [00:00<00:00, 95.89it/s]"
     ]
    },
    {
     "name": "stdout",
     "output_type": "stream",
     "text": [
      "../Data/Data_Myanmar/Camera Trap Photos_Tags/Cow\n"
     ]
    },
    {
     "name": "stderr",
     "output_type": "stream",
     "text": [
      "100%|██████████| 65/65 [00:01<00:00, 63.52it/s]\n",
      "100%|██████████| 5/5 [00:00<00:00, 66.82it/s]\n",
      "  0%|          | 0/56 [00:00<?, ?it/s]"
     ]
    },
    {
     "name": "stdout",
     "output_type": "stream",
     "text": [
      "OpenCV(4.5.1) C:\\Users\\appveyor\\AppData\\Local\\Temp\\1\\pip-req-build-kh7iq4w7\\opencv\\modules\\imgproc\\src\\resize.cpp:4051: error: (-215:Assertion failed) !ssize.empty() in function 'cv::resize'\n",
      "\n",
      "../Data/Data_Myanmar/Camera Trap Photos_Tags/Cow Cart\n",
      "OpenCV(4.5.1) C:\\Users\\appveyor\\AppData\\Local\\Temp\\1\\pip-req-build-kh7iq4w7\\opencv\\modules\\imgproc\\src\\resize.cpp:4051: error: (-215:Assertion failed) !ssize.empty() in function 'cv::resize'\n",
      "\n",
      "../Data/Data_Myanmar/Camera Trap Photos_Tags/Elephant_ canopy level\n"
     ]
    },
    {
     "name": "stderr",
     "output_type": "stream",
     "text": [
      "100%|██████████| 56/56 [00:01<00:00, 55.43it/s]\n",
      "  8%|▊         | 3/36 [00:00<00:01, 20.91it/s]"
     ]
    },
    {
     "name": "stdout",
     "output_type": "stream",
     "text": [
      "../Data/Data_Myanmar/Camera Trap Photos_Tags/Elephant_ ground level\n"
     ]
    },
    {
     "name": "stderr",
     "output_type": "stream",
     "text": [
      "100%|██████████| 36/36 [00:01<00:00, 20.11it/s]\n",
      " 11%|█         | 3/27 [00:00<00:01, 20.89it/s]"
     ]
    },
    {
     "name": "stdout",
     "output_type": "stream",
     "text": [
      "../Data/Data_Myanmar/Camera Trap Photos_Tags/Poachers\n"
     ]
    },
    {
     "name": "stderr",
     "output_type": "stream",
     "text": [
      "100%|██████████| 27/27 [00:01<00:00, 18.43it/s]\n",
      " 37%|███▋      | 73/198 [00:00<00:00, 727.74it/s]"
     ]
    },
    {
     "name": "stdout",
     "output_type": "stream",
     "text": [
      "../Data/Data_Myanmar/Camera Trap Photos_Tags/Truck\n",
      "OpenCV(4.5.1) C:\\Users\\appveyor\\AppData\\Local\\Temp\\1\\pip-req-build-kh7iq4w7\\opencv\\modules\\imgproc\\src\\resize.cpp:4051: error: (-215:Assertion failed) !ssize.empty() in function 'cv::resize'\n",
      "\n"
     ]
    },
    {
     "name": "stderr",
     "output_type": "stream",
     "text": [
      "100%|██████████| 198/198 [00:00<00:00, 725.67it/s]\n",
      "  0%|          | 7/2535 [00:00<00:43, 58.43it/s]"
     ]
    },
    {
     "name": "stdout",
     "output_type": "stream",
     "text": [
      "../Data/Data_Myanmar/Camera Trap Photos_Tags/Villagers\n"
     ]
    },
    {
     "name": "stderr",
     "output_type": "stream",
     "text": [
      "100%|██████████| 2535/2535 [00:49<00:00, 50.79it/s] \n",
      "100%|██████████| 10/10 [00:00<00:00, 200.15it/s]"
     ]
    },
    {
     "name": "stdout",
     "output_type": "stream",
     "text": [
      "../Data/Data_Myanmar/Camera Trap Photos_Tags/3 Wheel Cart\n",
      "OpenCV(4.5.1) C:\\Users\\appveyor\\AppData\\Local\\Temp\\1\\pip-req-build-kh7iq4w7\\opencv\\modules\\imgproc\\src\\resize.cpp:4051: error: (-215:Assertion failed) !ssize.empty() in function 'cv::resize'\n",
      "\n",
      "Cow:  64\n",
      "Cow cart:  4\n",
      "Elephant canopy level:  56\n",
      "Elephant ground level:  36\n",
      "Poachers:  27\n",
      "Truck:  197\n",
      "Villagers:  2535\n",
      "Three weel cart:  9\n"
     ]
    },
    {
     "name": "stderr",
     "output_type": "stream",
     "text": [
      "\n"
     ]
    }
   ],
   "source": [
    "myanmarImg = myanmarImg()\n",
    "train_data = myanmarImg.make_training_data()"
   ]
  },
  {
   "cell_type": "code",
   "execution_count": 29,
   "metadata": {},
   "outputs": [],
   "source": [
    "np.save(\"../Data/Data_Myanmar/training_data_myanmar.npy\", train_data)"
   ]
  }
 ],
 "metadata": {
  "kernelspec": {
   "display_name": "Python 3",
   "language": "python",
   "name": "python3"
  },
  "language_info": {
   "codemirror_mode": {
    "name": "ipython",
    "version": 3
   },
   "file_extension": ".py",
   "mimetype": "text/x-python",
   "name": "python",
   "nbconvert_exporter": "python",
   "pygments_lexer": "ipython3",
   "version": "3.8.5"
  }
 },
 "nbformat": 4,
 "nbformat_minor": 4
}
