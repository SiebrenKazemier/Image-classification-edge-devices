{
 "cells": [
  {
   "cell_type": "code",
   "execution_count": 3,
   "metadata": {},
   "outputs": [],
   "source": [
    "from sklearn.metrics import classification_report\n",
    "import tensorflow as tf\n",
    "from tensorflow import keras\n",
    "from tensorflow.keras import datasets, layers, models\n",
    "from tensorflow.keras.callbacks import TensorBoard\n",
    "import numpy as np\n",
    "import matplotlib.pyplot as plt\n",
    "\n",
    "import os\n",
    "from tqdm import tqdm\n",
    "import cv2"
   ]
  },
  {
   "cell_type": "code",
   "execution_count": 18,
   "metadata": {},
   "outputs": [
    {
     "ename": "FileNotFoundError",
     "evalue": "[WinError 3] Het systeem kan het opgegeven pad niet vinden: '~\\\\Data_Myanmar\\\\Camera_Trap_Photos_Tags'",
     "output_type": "error",
     "traceback": [
      "\u001b[1;31m---------------------------------------------------------------------------\u001b[0m",
      "\u001b[1;31mFileNotFoundError\u001b[0m                         Traceback (most recent call last)",
      "\u001b[1;32m<ipython-input-18-ecd13d8e8b19>\u001b[0m in \u001b[0;36m<module>\u001b[1;34m\u001b[0m\n\u001b[0;32m      1\u001b[0m \u001b[1;31m# collect data from folders\u001b[0m\u001b[1;33m\u001b[0m\u001b[1;33m\u001b[0m\u001b[1;33m\u001b[0m\u001b[0m\n\u001b[1;32m----> 2\u001b[1;33m \u001b[0mentries\u001b[0m \u001b[1;33m=\u001b[0m \u001b[0mos\u001b[0m\u001b[1;33m.\u001b[0m\u001b[0mlistdir\u001b[0m\u001b[1;33m(\u001b[0m\u001b[1;34m'~\\Data_Myanmar\\Camera_Trap_Photos_Tags'\u001b[0m\u001b[1;33m)\u001b[0m\u001b[1;33m\u001b[0m\u001b[1;33m\u001b[0m\u001b[0m\n\u001b[0m\u001b[0;32m      3\u001b[0m \u001b[1;32mfor\u001b[0m \u001b[0mentrie\u001b[0m \u001b[1;32min\u001b[0m \u001b[0mentries\u001b[0m\u001b[1;33m:\u001b[0m\u001b[1;33m\u001b[0m\u001b[1;33m\u001b[0m\u001b[0m\n\u001b[0;32m      4\u001b[0m     \u001b[0mprint\u001b[0m\u001b[1;33m(\u001b[0m\u001b[0mentrie\u001b[0m\u001b[1;33m)\u001b[0m\u001b[1;33m\u001b[0m\u001b[1;33m\u001b[0m\u001b[0m\n",
      "\u001b[1;31mFileNotFoundError\u001b[0m: [WinError 3] Het systeem kan het opgegeven pad niet vinden: '~\\\\Data_Myanmar\\\\Camera_Trap_Photos_Tags'"
     ]
    }
   ],
   "source": [
    "# collect data from folders\n",
    "entries = os.listdir('../Data/Data_Myanmar/Camera_Trap_Photos_Tags')\n",
    "for entrie in entries:\n",
    "    print(entrie)"
   ]
  },
  {
   "cell_type": "code",
   "execution_count": 4,
   "metadata": {},
   "outputs": [],
   "source": [
    "class myanmarImg():\n",
    "    IMG_SIZE = 299\n",
    "\n",
    "    LINK = \"../Data/Data_Myanmar/Camera Trap Photos_Tags/\"\n",
    "    COW = LINK + \"Cow\"\n",
    "    COW_CART = LINK + \"Cow Cart\"\n",
    "    ELEPHANT_CANOPY_LEVEL = LINK + \"Elephant_ canopy level\"\n",
    "    ELEPHANT_GROUND_LEVEL = LINK + \"Elephant_ ground level\"\n",
    "    POACHERS = LINK + \"Poachers\"\n",
    "    TRUCK = LINK + \"Truck\"\n",
    "    VILLAGERS = LINK + \"Villagers\"\n",
    "    THREE_WEEL_CART = LINK + \"3 Wheel Cart\"\n",
    "\n",
    "    LABELS = {COW:1, COW_CART:1, ELEPHANT_CANOPY_LEVEL:2, ELEPHANT_GROUND_LEVEL:2, POACHERS:0, TRUCK:1, VILLAGERS:0, THREE_WEEL_CART:1}\n",
    "\n",
    "    training_data = []\n",
    "\n",
    "    cow_count, cow_cart_count, elephant_canopy_level_count, elephant_ground_level_count, poachers_count, truck_count, villagers_count, three_weel_cart_count = 0, 0, 0, 0, 0, 0, 0, 0\n",
    "\n",
    "    def make_training_data(self):\n",
    "        for label in self.LABELS.keys():\n",
    "            print(label)\n",
    "            for f in tqdm(os.listdir(label)):\n",
    "                try:\n",
    "                    path = os.path.join(label, f)\n",
    "                    img = cv2.imread(path, cv2.IMREAD_GRAYSCALE)\n",
    "                    img = cv2.resize(img, (self.IMG_SIZE, self.IMG_SIZE))\n",
    "                    self.training_data.append([np.array(img), self.LABELS[label]])\n",
    "\n",
    "                    if label == self.COW:\n",
    "                        self.cow_count += 1\n",
    "                    elif label == self.COW_CART:\n",
    "                        self.cow_cart_count += 1\n",
    "                    elif label == self.ELEPHANT_CANOPY_LEVEL:\n",
    "                        self.elephant_canopy_level_count += 1\n",
    "                    elif label == self.ELEPHANT_GROUND_LEVEL:\n",
    "                        self.elephant_ground_level_count += 1\n",
    "                    elif label == self.POACHERS:\n",
    "                        self.poachers_count += 1\n",
    "                    elif label == self.TRUCK:\n",
    "                        self.truck_count += 1\n",
    "                    elif label == self.VILLAGERS:\n",
    "                        self.villagers_count += 1\n",
    "                    elif label == self.THREE_WEEL_CART:\n",
    "                        self.three_weel_cart_count += 1\n",
    "                except Exception as e:\n",
    "                    print(str(e))\n",
    "\n",
    "        np.random.shuffle(self.training_data)\n",
    "        #     np.save(\"../Data/Data_Myanmar/Camera Trap Photos_Tags/training_data_myanmar.npy\", self.training_data)\n",
    "\n",
    "        print(\"Cow: \", self.cow_count)\n",
    "        print(\"Cow cart: \", self.cow_cart_count)\n",
    "        print(\"Elephant canopy level: \", self.elephant_canopy_level_count)\n",
    "        print(\"Elephant ground level: \", self.elephant_ground_level_count)\n",
    "        print(\"Poachers: \", self.poachers_count)\n",
    "        print(\"Truck: \", self.truck_count)\n",
    "        print(\"Villagers: \", self.villagers_count)\n",
    "        print(\"Three weel cart: \", self.three_weel_cart_count)\n",
    "\n",
    "        return self.training_data"
   ]
  },
  {
   "cell_type": "code",
   "execution_count": 5,
   "metadata": {},
   "outputs": [
    {
     "name": "stderr",
     "output_type": "stream",
     "text": [
      " 12%|█▏        | 8/65 [00:00<00:00, 70.17it/s]"
     ]
    },
    {
     "name": "stdout",
     "output_type": "stream",
     "text": [
      "../Data/Data_Myanmar/Camera Trap Photos_Tags/Cow\n"
     ]
    },
    {
     "name": "stderr",
     "output_type": "stream",
     "text": [
      "100%|██████████| 65/65 [00:02<00:00, 23.64it/s]\n",
      " 60%|██████    | 3/5 [00:00<00:00, 16.10it/s]"
     ]
    },
    {
     "name": "stdout",
     "output_type": "stream",
     "text": [
      "OpenCV(4.0.1) C:\\ci\\opencv-suite_1573470242804\\work\\modules\\imgproc\\src\\resize.cpp:3784: error: (-215:Assertion failed) !ssize.empty() in function 'cv::resize'\n",
      "\n",
      "../Data/Data_Myanmar/Camera Trap Photos_Tags/Cow Cart\n"
     ]
    },
    {
     "name": "stderr",
     "output_type": "stream",
     "text": [
      "100%|██████████| 5/5 [00:00<00:00, 24.57it/s]\n",
      "  4%|▎         | 2/56 [00:00<00:04, 13.30it/s]"
     ]
    },
    {
     "name": "stdout",
     "output_type": "stream",
     "text": [
      "OpenCV(4.0.1) C:\\ci\\opencv-suite_1573470242804\\work\\modules\\imgproc\\src\\resize.cpp:3784: error: (-215:Assertion failed) !ssize.empty() in function 'cv::resize'\n",
      "\n",
      "../Data/Data_Myanmar/Camera Trap Photos_Tags/Elephant_ canopy level\n"
     ]
    },
    {
     "name": "stderr",
     "output_type": "stream",
     "text": [
      "100%|██████████| 56/56 [00:03<00:00, 15.64it/s]\n",
      "  0%|          | 0/36 [00:00<?, ?it/s]"
     ]
    },
    {
     "name": "stdout",
     "output_type": "stream",
     "text": [
      "../Data/Data_Myanmar/Camera Trap Photos_Tags/Elephant_ ground level\n"
     ]
    },
    {
     "name": "stderr",
     "output_type": "stream",
     "text": [
      "100%|██████████| 36/36 [00:05<00:00,  6.16it/s]\n",
      "  4%|▎         | 1/27 [00:00<00:02,  9.41it/s]"
     ]
    },
    {
     "name": "stdout",
     "output_type": "stream",
     "text": [
      "../Data/Data_Myanmar/Camera Trap Photos_Tags/Poachers\n"
     ]
    },
    {
     "name": "stderr",
     "output_type": "stream",
     "text": [
      "100%|██████████| 27/27 [00:04<00:00,  6.10it/s]\n",
      " 11%|█         | 21/198 [00:00<00:01, 176.46it/s]"
     ]
    },
    {
     "name": "stdout",
     "output_type": "stream",
     "text": [
      "../Data/Data_Myanmar/Camera Trap Photos_Tags/Truck\n",
      "OpenCV(4.0.1) C:\\ci\\opencv-suite_1573470242804\\work\\modules\\imgproc\\src\\resize.cpp:3784: error: (-215:Assertion failed) !ssize.empty() in function 'cv::resize'\n",
      "\n"
     ]
    },
    {
     "name": "stderr",
     "output_type": "stream",
     "text": [
      "100%|██████████| 198/198 [00:00<00:00, 221.32it/s]\n",
      "  0%|          | 0/2535 [00:00<?, ?it/s]"
     ]
    },
    {
     "name": "stdout",
     "output_type": "stream",
     "text": [
      "../Data/Data_Myanmar/Camera Trap Photos_Tags/Villagers\n"
     ]
    },
    {
     "name": "stderr",
     "output_type": "stream",
     "text": [
      "100%|██████████| 2535/2535 [02:18<00:00, 18.30it/s] \n",
      "100%|██████████| 10/10 [00:00<00:00, 58.00it/s]"
     ]
    },
    {
     "name": "stdout",
     "output_type": "stream",
     "text": [
      "../Data/Data_Myanmar/Camera Trap Photos_Tags/3 Wheel Cart\n",
      "OpenCV(4.0.1) C:\\ci\\opencv-suite_1573470242804\\work\\modules\\imgproc\\src\\resize.cpp:3784: error: (-215:Assertion failed) !ssize.empty() in function 'cv::resize'\n",
      "\n",
      "Cow:  64\n",
      "Cow cart:  4\n",
      "Elephant canopy level:  56\n",
      "Elephant ground level:  36\n",
      "Poachers:  27\n",
      "Truck:  197\n",
      "Villagers:  2535\n",
      "Three weel cart:  9\n"
     ]
    },
    {
     "name": "stderr",
     "output_type": "stream",
     "text": [
      "\n"
     ]
    }
   ],
   "source": [
    "myanmarImg = myanmarImg()\n",
    "train_data = myanmarImg.make_training_data()"
   ]
  },
  {
   "cell_type": "code",
   "execution_count": 6,
   "metadata": {},
   "outputs": [
    {
     "name": "stderr",
     "output_type": "stream",
     "text": [
      "C:\\Users\\Siebren\\anaconda3\\envs\\tf\\lib\\site-packages\\numpy\\core\\_asarray.py:136: VisibleDeprecationWarning: Creating an ndarray from ragged nested sequences (which is a list-or-tuple of lists-or-tuples-or ndarrays with different lengths or shapes) is deprecated. If you meant to do this, you must specify 'dtype=object' when creating the ndarray\n",
      "  return array(a, dtype, copy=False, order=order, subok=True)\n"
     ]
    }
   ],
   "source": [
    "np.save(\"../Data/Data_Myanmar/testing_data_myanmar_for_gabon_model.npy\", train_data)"
   ]
  },
  {
   "cell_type": "code",
   "execution_count": null,
   "metadata": {},
   "outputs": [],
   "source": []
  }
 ],
 "metadata": {
  "kernelspec": {
   "display_name": "Python 3",
   "language": "python",
   "name": "python3"
  },
  "language_info": {
   "codemirror_mode": {
    "name": "ipython",
    "version": 3
   },
   "file_extension": ".py",
   "mimetype": "text/x-python",
   "name": "python",
   "nbconvert_exporter": "python",
   "pygments_lexer": "ipython3",
   "version": "3.8.5"
  }
 },
 "nbformat": 4,
 "nbformat_minor": 4
}
