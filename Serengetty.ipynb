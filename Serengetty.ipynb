{
 "cells": [
  {
   "cell_type": "code",
   "execution_count": 116,
   "id": "67ded99d",
   "metadata": {},
   "outputs": [],
   "source": [
    "from sklearn.metrics import classification_report\n",
    "import tensorflow as tf\n",
    "from tensorflow import keras\n",
    "from tensorflow.keras import datasets, layers, models\n",
    "from tensorflow.keras.callbacks import TensorBoard\n",
    "import numpy as np\n",
    "import matplotlib.pyplot as plt\n",
    "import pandas as pd\n",
    "import os\n",
    "from tqdm import tqdm\n",
    "import pathlib\n",
    "from google.cloud import storage\n",
    "import tensorflow_hub as hub\n",
    "from io import BytesIO\n",
    "from tensorflow.python.lib.io import file_io"
   ]
  },
  {
   "cell_type": "code",
   "execution_count": 117,
   "id": "4f6b19b3",
   "metadata": {},
   "outputs": [],
   "source": [
    "# train_data = pd.read_csv(\"gs://dataset-gabon/train_val_test_csv_Siebren/train_data_siebren.csv\", header=None)\n",
    "val_data = pd.read_csv(\"gs://dataset-gabon/train_val_test_csv_Siebren/val_set.csv\")\n",
    "# test_data = pd.read_csv(\"gs://dataset-gabon/train_val_test_csv_Siebren/test_data_siebren.csv\", header=None)\n",
    "# CLASS_NAMES = train_data[0].unique()"
   ]
  },
  {
   "cell_type": "code",
   "execution_count": 118,
   "id": "f3c0b49f",
   "metadata": {},
   "outputs": [],
   "source": [
    "elephant = val_data[val_data[\"elephant\"] == 1]"
   ]
  },
  {
   "cell_type": "code",
   "execution_count": 119,
   "id": "909f5c4f",
   "metadata": {},
   "outputs": [],
   "source": [
    "blank = val_data[val_data[\"blank\"] == 1].sample(frac=0.01)"
   ]
  },
  {
   "cell_type": "code",
   "execution_count": 120,
   "id": "9addae28",
   "metadata": {},
   "outputs": [],
   "source": [
    "val_data = val_data.drop(val_data[val_data[\"elephant\"] == 1].index)"
   ]
  },
  {
   "cell_type": "code",
   "execution_count": 121,
   "id": "0c7d02ff",
   "metadata": {},
   "outputs": [],
   "source": [
    "val_data = val_data.drop(val_data[val_data[\"blank\"] == 1].index)"
   ]
  },
  {
   "cell_type": "code",
   "execution_count": 122,
   "id": "33a91467",
   "metadata": {},
   "outputs": [],
   "source": [
    "other = val_data.sample(frac=0.025)"
   ]
  },
  {
   "cell_type": "code",
   "execution_count": 56,
   "id": "e8607013",
   "metadata": {},
   "outputs": [
    {
     "name": "stderr",
     "output_type": "stream",
     "text": [
      "47038it [02:53, 271.34it/s]\n"
     ]
    }
   ],
   "source": [
    "humans = pd.DataFrame(columns=['class', 'link'])\n",
    "client = storage.Client()\n",
    "for blob in tqdm(client.list_blobs('dataset-myanmar-renamed', prefix='SnapshotSerengeti_humans_v2.0')):\n",
    "    if blob.name[-3:].lower() == \"jpg\":\n",
    "        humans = humans.append({\"class\": \"Human\", 'link': \"gs://dataset-myanmar-renamed/\"+str(blob.name)}, ignore_index=True)"
   ]
  },
  {
   "cell_type": "code",
   "execution_count": 68,
   "id": "98a4ecc6",
   "metadata": {},
   "outputs": [],
   "source": [
    "humans = humans.sample(frac=0.057)\n",
    "humans = humans.rename(columns = {'class': 'label', 'link': 'file_name'}, inplace = False)"
   ]
  },
  {
   "cell_type": "code",
   "execution_count": 124,
   "id": "874849f8",
   "metadata": {},
   "outputs": [],
   "source": [
    "def make_label(data, label):\n",
    "    data[\"file_name\"] = \"gs://justdiggit-serengeti-data-512/decompressed/512_\" + data[\"file_name\"]\n",
    "    data['label'] = label\n",
    "    data = data[['label', 'file_name']]\n",
    "    return data\n",
    "\n",
    "other_data = make_label(other, \"Other_animal\")\n",
    "elephant_data = make_label(elephant, \"Elephant_African\")\n",
    "blank_data = make_label(blank, \"Blank\")"
   ]
  },
  {
   "cell_type": "code",
   "execution_count": 129,
   "id": "51373667",
   "metadata": {},
   "outputs": [],
   "source": [
    "serengeti = humans.append(other_data, ignore_index=True)\n",
    "serengeti = serengeti.append(elephant_data, ignore_index=True)\n",
    "serengeti = serengeti.append(blank_data, ignore_index=True)\n",
    "# serengeti = serengeti.reset_index()"
   ]
  },
  {
   "cell_type": "code",
   "execution_count": 130,
   "id": "09b213bd",
   "metadata": {},
   "outputs": [
    {
     "data": {
      "text/html": [
       "<div>\n",
       "<style scoped>\n",
       "    .dataframe tbody tr th:only-of-type {\n",
       "        vertical-align: middle;\n",
       "    }\n",
       "\n",
       "    .dataframe tbody tr th {\n",
       "        vertical-align: top;\n",
       "    }\n",
       "\n",
       "    .dataframe thead th {\n",
       "        text-align: right;\n",
       "    }\n",
       "</style>\n",
       "<table border=\"1\" class=\"dataframe\">\n",
       "  <thead>\n",
       "    <tr style=\"text-align: right;\">\n",
       "      <th></th>\n",
       "      <th>label</th>\n",
       "      <th>file_name</th>\n",
       "    </tr>\n",
       "  </thead>\n",
       "  <tbody>\n",
       "    <tr>\n",
       "      <th>0</th>\n",
       "      <td>Human</td>\n",
       "      <td>gs://dataset-myanmar-renamed/SnapshotSerengeti...</td>\n",
       "    </tr>\n",
       "    <tr>\n",
       "      <th>1</th>\n",
       "      <td>Human</td>\n",
       "      <td>gs://dataset-myanmar-renamed/SnapshotSerengeti...</td>\n",
       "    </tr>\n",
       "    <tr>\n",
       "      <th>2</th>\n",
       "      <td>Human</td>\n",
       "      <td>gs://dataset-myanmar-renamed/SnapshotSerengeti...</td>\n",
       "    </tr>\n",
       "    <tr>\n",
       "      <th>3</th>\n",
       "      <td>Human</td>\n",
       "      <td>gs://dataset-myanmar-renamed/SnapshotSerengeti...</td>\n",
       "    </tr>\n",
       "    <tr>\n",
       "      <th>4</th>\n",
       "      <td>Human</td>\n",
       "      <td>gs://dataset-myanmar-renamed/SnapshotSerengeti...</td>\n",
       "    </tr>\n",
       "    <tr>\n",
       "      <th>...</th>\n",
       "      <td>...</td>\n",
       "      <td>...</td>\n",
       "    </tr>\n",
       "    <tr>\n",
       "      <th>10582</th>\n",
       "      <td>Blank</td>\n",
       "      <td>gs://justdiggit-serengeti-data-512/decompresse...</td>\n",
       "    </tr>\n",
       "    <tr>\n",
       "      <th>10583</th>\n",
       "      <td>Blank</td>\n",
       "      <td>gs://justdiggit-serengeti-data-512/decompresse...</td>\n",
       "    </tr>\n",
       "    <tr>\n",
       "      <th>10584</th>\n",
       "      <td>Blank</td>\n",
       "      <td>gs://justdiggit-serengeti-data-512/decompresse...</td>\n",
       "    </tr>\n",
       "    <tr>\n",
       "      <th>10585</th>\n",
       "      <td>Blank</td>\n",
       "      <td>gs://justdiggit-serengeti-data-512/decompresse...</td>\n",
       "    </tr>\n",
       "    <tr>\n",
       "      <th>10586</th>\n",
       "      <td>Blank</td>\n",
       "      <td>gs://justdiggit-serengeti-data-512/decompresse...</td>\n",
       "    </tr>\n",
       "  </tbody>\n",
       "</table>\n",
       "<p>10587 rows × 2 columns</p>\n",
       "</div>"
      ],
      "text/plain": [
       "       label                                          file_name\n",
       "0      Human  gs://dataset-myanmar-renamed/SnapshotSerengeti...\n",
       "1      Human  gs://dataset-myanmar-renamed/SnapshotSerengeti...\n",
       "2      Human  gs://dataset-myanmar-renamed/SnapshotSerengeti...\n",
       "3      Human  gs://dataset-myanmar-renamed/SnapshotSerengeti...\n",
       "4      Human  gs://dataset-myanmar-renamed/SnapshotSerengeti...\n",
       "...      ...                                                ...\n",
       "10582  Blank  gs://justdiggit-serengeti-data-512/decompresse...\n",
       "10583  Blank  gs://justdiggit-serengeti-data-512/decompresse...\n",
       "10584  Blank  gs://justdiggit-serengeti-data-512/decompresse...\n",
       "10585  Blank  gs://justdiggit-serengeti-data-512/decompresse...\n",
       "10586  Blank  gs://justdiggit-serengeti-data-512/decompresse...\n",
       "\n",
       "[10587 rows x 2 columns]"
      ]
     },
     "execution_count": 130,
     "metadata": {},
     "output_type": "execute_result"
    }
   ],
   "source": [
    "serengeti"
   ]
  },
  {
   "cell_type": "code",
   "execution_count": 131,
   "id": "a803993a",
   "metadata": {},
   "outputs": [],
   "source": [
    "serengeti.to_csv(\"gs://dataset-gabon/train_val_test_csv_Siebren/serengeti_siebren.csv\", index=None, header=None)"
   ]
  },
  {
   "cell_type": "code",
   "execution_count": null,
   "id": "a683f70d",
   "metadata": {},
   "outputs": [],
   "source": []
  }
 ],
 "metadata": {
  "environment": {
   "name": "tf2-gpu.2-4.m65",
   "type": "gcloud",
   "uri": "gcr.io/deeplearning-platform-release/tf2-gpu.2-4:m65"
  },
  "kernelspec": {
   "display_name": "Python 3",
   "language": "python",
   "name": "python3"
  },
  "language_info": {
   "codemirror_mode": {
    "name": "ipython",
    "version": 3
   },
   "file_extension": ".py",
   "mimetype": "text/x-python",
   "name": "python",
   "nbconvert_exporter": "python",
   "pygments_lexer": "ipython3",
   "version": "3.7.10"
  }
 },
 "nbformat": 4,
 "nbformat_minor": 5
}
