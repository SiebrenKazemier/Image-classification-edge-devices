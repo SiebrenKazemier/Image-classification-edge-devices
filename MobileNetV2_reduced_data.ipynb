{
 "cells": [
  {
   "cell_type": "code",
   "execution_count": 1,
   "id": "5cd91a48",
   "metadata": {},
   "outputs": [],
   "source": [
    "from sklearn.metrics import classification_report\n",
    "import tensorflow as tf\n",
    "from tensorflow import keras\n",
    "from tensorflow.keras import datasets, layers, models\n",
    "from tensorflow.keras.callbacks import TensorBoard\n",
    "import numpy as np\n",
    "import matplotlib.pyplot as plt\n",
    "import pandas as pd\n",
    "import os\n",
    "from tqdm import tqdm\n",
    "import pathlib\n",
    "from google.cloud import storage\n",
    "import tensorflow_hub as hub\n",
    "from io import BytesIO\n",
    "from tensorflow.python.lib.io import file_io\n",
    "import seaborn as sn\n",
    "from sklearn.metrics import confusion_matrix"
   ]
  },
  {
   "cell_type": "code",
   "execution_count": 2,
   "id": "1c96f9bc",
   "metadata": {},
   "outputs": [],
   "source": [
    "train_data = pd.read_csv(\"gs://dataset-gabon/train_val_test_csv_Siebren/train_data_siebren2.csv\", header=None)\n",
    "val_data = pd.read_csv(\"gs://dataset-gabon/train_val_test_csv_Siebren/val_data_siebren2.csv\", header=None)\n",
    "test_data = pd.read_csv(\"gs://dataset-gabon/train_val_test_csv_Siebren/test_data_siebren.csv\", header=None)\n",
    "CLASS_NAMES = train_data[0].unique()"
   ]
  },
  {
   "cell_type": "code",
   "execution_count": 3,
   "id": "b33b38fd",
   "metadata": {},
   "outputs": [],
   "source": [
    "# def check_data(data):\n",
    "#     no_series = pd.read_csv(\"gs://dataset-gabon/train_val_test_csv_Siebren/data_without_series.csv\")\n",
    "#     z_score = pd.read_csv(\"gs://dataset-gabon/train_val_test_csv_Siebren/data_without_zScore.csv\")\n",
    "#     overexposed = pd.read_csv(\"gs://dataset-gabon/train_val_test_csv_Siebren/overexposed.csv\")\n",
    "#     underexposed = pd.read_csv(\"gs://dataset-gabon/train_val_test_csv_Siebren/underexposed.csv\")\n",
    "    \n",
    "#     data[1] = data[1].map(lambda x: x.lstrip('../gabon-dataset/data_training_rescaled_extra/'))\n",
    "#     new_data = no_series.merge(data, left_on='pictures', right_on=1)\n",
    "#     new_data = new_data[[0, 1]]\n",
    "#     new_data[1] = '../gabon-dataset/data_training_rescaled_extra/' + new_data[1]\n",
    "#     return new_data       "
   ]
  },
  {
   "cell_type": "code",
   "execution_count": 4,
   "id": "d3f9e041",
   "metadata": {},
   "outputs": [],
   "source": [
    "IMG_HEIGHT = 224\n",
    "IMG_WIDTH = 224\n",
    "IMG_CHANNELS = 3\n",
    "\n",
    "BATCH_SIZE = 128\n",
    "# 10 is a magic number tuned for local training of this dataset.\n",
    "SHUFFLE_BUFFER = 10 * BATCH_SIZE\n",
    "AUTOTUNE = tf.data.experimental.AUTOTUNE\n",
    "\n",
    "VALIDATION_IMAGES = 370\n",
    "VALIDATION_STEPS = VALIDATION_IMAGES // BATCH_SIZE"
   ]
  },
  {
   "cell_type": "code",
   "execution_count": 5,
   "id": "73106eae",
   "metadata": {},
   "outputs": [],
   "source": [
    "def decode_img(img, reshape_dims):\n",
    "    # Convert the compressed string to a 3D uint8 tensor.\n",
    "    img = tf.image.decode_jpeg(img, channels=IMG_CHANNELS)\n",
    "    # Use `convert_image_dtype` to convert to floats in the [0,1] range.\n",
    "    img = tf.image.convert_image_dtype(img, tf.float32)\n",
    "    # Resize the image to the desired size.\n",
    "    return tf.image.resize(img, reshape_dims)"
   ]
  },
  {
   "cell_type": "code",
   "execution_count": 6,
   "id": "17014e83",
   "metadata": {},
   "outputs": [],
   "source": [
    "MAX_DELTA = 63.0 / 255.0  # Change brightness by at most 17.7%\n",
    "CONTRAST_LOWER = 0.2\n",
    "CONTRAST_UPPER = 1.8\n",
    "\n",
    "def read_and_preprocess(image_bytes, label, random_augment=False):\n",
    "#     if random_augment:\n",
    "#         img = decode_img(image_bytes, [IMG_HEIGHT + 10, IMG_WIDTH + 10])\n",
    "#         img = tf.image.random_crop(img, [IMG_HEIGHT, IMG_WIDTH, IMG_CHANNELS])\n",
    "#         img = tf.image.random_flip_left_right(img)\n",
    "#         img = tf.image.random_brightness(img, MAX_DELTA)\n",
    "#         img = tf.image.random_contrast(img, CONTRAST_LOWER, CONTRAST_UPPER)\n",
    "#     else:\n",
    "    img = decode_img(image_bytes, [IMG_WIDTH, IMG_HEIGHT])\n",
    "    return img, label\n",
    "\n",
    "\n",
    "def read_and_preprocess_with_augment(image_bytes, label):\n",
    "    return read_and_preprocess(image_bytes, label, random_augment=True)"
   ]
  },
  {
   "cell_type": "code",
   "execution_count": 7,
   "id": "e6a62acc",
   "metadata": {},
   "outputs": [],
   "source": [
    "def decode_csv(csv_row):\n",
    "    record_defaults = [\"img\", \"path\"]\n",
    "    label_string, filename = tf.io.decode_csv(csv_row, record_defaults)\n",
    "    image_bytes = tf.io.read_file(filename=filename)\n",
    "    label = tf.math.equal(CLASS_NAMES, label_string)\n",
    "    return image_bytes, label"
   ]
  },
  {
   "cell_type": "code",
   "execution_count": 8,
   "id": "239b132f",
   "metadata": {},
   "outputs": [],
   "source": [
    "def load_dataset(csv_of_filenames, batch_size, training=True):    \n",
    "    dataset = tf.data.TextLineDataset(filenames=csv_of_filenames) \\\n",
    "        .map(decode_csv, num_parallel_calls=tf.data.AUTOTUNE)\n",
    "    \n",
    "    if training:\n",
    "        dataset = dataset \\\n",
    "            .map(read_and_preprocess_with_augment, num_parallel_calls=tf.data.AUTOTUNE) \\\n",
    "            .repeat(count=1)\n",
    "        \n",
    "#             .shuffle(SHUFFLE_BUFFER) \\\n",
    "#             .repeat(count=-1)\n",
    "#             .repeat(count=None)  # Indefinately.\n",
    "\n",
    "#         dataset = dataset \\\n",
    "#             .map(read_and_preprocess_with_augment) \\\n",
    "#             .shuffle(SHUFFLE_BUFFER) \\\n",
    "#             .repeat(count=None)  # Indefinately.\n",
    "    else:\n",
    "        dataset = dataset \\\n",
    "            .map(read_and_preprocess, num_parallel_calls=tf.data.AUTOTUNE) \\\n",
    "            .repeat(count=1)  # Each photo used once.\n",
    "    \n",
    "    # Prefetch prepares the next set of batches while current batch is in use.\n",
    "    return dataset.batch(batch_size=batch_size).prefetch(buffer_size=AUTOTUNE)\n",
    "#     return dataset.range(4).interleave(lambda _: dataset.batch(batch_size=batch_size), num_parallel_calls=tf.data.AUTOTUNE )"
   ]
  },
  {
   "cell_type": "markdown",
   "id": "a15d108f",
   "metadata": {},
   "source": [
    "# Model"
   ]
  },
  {
   "cell_type": "code",
   "execution_count": 9,
   "id": "e83adce7",
   "metadata": {},
   "outputs": [],
   "source": [
    "# data\n",
    "train_path = \"gs://dataset-gabon/train_val_test_csv_Siebren/train_data_siebren2.csv\"\n",
    "eval_path = \"gs://dataset-gabon/train_val_test_csv_Siebren/val_data_siebren2.csv\"\n",
    "nclasses = len(CLASS_NAMES)"
   ]
  },
  {
   "cell_type": "code",
   "execution_count": 10,
   "id": "1c2da3d6",
   "metadata": {},
   "outputs": [],
   "source": [
    "base_model = keras.applications.MobileNetV2(\n",
    "    weights='imagenet',  # Load weights pre-trained on ImageNet.\n",
    "    input_shape=(IMG_HEIGHT, IMG_WIDTH, 3),\n",
    "    include_top=False)  # Do not include the ImageNet classifier at the top."
   ]
  },
  {
   "cell_type": "code",
   "execution_count": 11,
   "id": "07b4c151",
   "metadata": {},
   "outputs": [],
   "source": [
    "base_model.trainable = False"
   ]
  },
  {
   "cell_type": "code",
   "execution_count": 12,
   "id": "5be0bed3",
   "metadata": {},
   "outputs": [],
   "source": [
    "inputs = keras.Input(shape=(IMG_HEIGHT, IMG_WIDTH, 3))\n",
    "# We make sure that the base_model is running in inference mode here,\n",
    "# by passing `training=False`. This is important for fine-tuning, as you will\n",
    "# learn in a few paragraphs.\n",
    "x = base_model(inputs, training=False)\n",
    "# Convert features of shape `base_model.output_shape[1:]` to vectors\n",
    "x = keras.layers.GlobalAveragePooling2D()(x)\n",
    "x = keras.layers.Dropout(rate=0.5)(x)\n",
    "# A Dense classifier with a single unit (binary classification)\n",
    "outputs = keras.layers.Dense(nclasses, activation='softmax')(x)\n",
    "model = keras.Model(inputs, outputs)"
   ]
  },
  {
   "cell_type": "code",
   "execution_count": 13,
   "id": "f8cccfa9",
   "metadata": {},
   "outputs": [
    {
     "name": "stdout",
     "output_type": "stream",
     "text": [
      "Model: \"model\"\n",
      "_________________________________________________________________\n",
      "Layer (type)                 Output Shape              Param #   \n",
      "=================================================================\n",
      "input_2 (InputLayer)         [(None, 224, 224, 3)]     0         \n",
      "_________________________________________________________________\n",
      "mobilenetv2_1.00_224 (Functi (None, 7, 7, 1280)        2257984   \n",
      "_________________________________________________________________\n",
      "global_average_pooling2d (Gl (None, 1280)              0         \n",
      "_________________________________________________________________\n",
      "dropout (Dropout)            (None, 1280)              0         \n",
      "_________________________________________________________________\n",
      "dense (Dense)                (None, 28)                35868     \n",
      "=================================================================\n",
      "Total params: 2,293,852\n",
      "Trainable params: 35,868\n",
      "Non-trainable params: 2,257,984\n",
      "_________________________________________________________________\n"
     ]
    }
   ],
   "source": [
    "model.summary()"
   ]
  },
  {
   "cell_type": "code",
   "execution_count": 14,
   "id": "2723914b",
   "metadata": {},
   "outputs": [],
   "source": [
    "# model.load_weights(\"gs://dataset-gabon/train_val_test_csv_Siebren/CNN_models/MobileNetV2/cp.ckpt\")\n",
    "# model = keras.models.load_model(\"gs://dataset-gabon/train_val_test_csv_Siebren/CNN_models/MobileNetV2/model.H5\")"
   ]
  },
  {
   "cell_type": "code",
   "execution_count": 15,
   "id": "0d79acaa",
   "metadata": {},
   "outputs": [],
   "source": [
    "model.compile(\n",
    "    optimizer='adam',\n",
    "    loss='categorical_crossentropy',\n",
    "    metrics=['accuracy'])\n",
    "\n",
    "train_ds = load_dataset(train_path, BATCH_SIZE)\n",
    "eval_ds = load_dataset(eval_path, BATCH_SIZE, training=False)"
   ]
  },
  {
   "cell_type": "code",
   "execution_count": 16,
   "id": "cf338d25",
   "metadata": {},
   "outputs": [],
   "source": [
    "# for layer in model.layers[1].layers:\n",
    "#     print(layer)"
   ]
  },
  {
   "cell_type": "code",
   "execution_count": 17,
   "id": "fdc66627",
   "metadata": {},
   "outputs": [],
   "source": [
    "cp_callback = tf.keras.callbacks.ModelCheckpoint(filepath=\"gs://dataset-gabon/train_val_test_csv_Siebren/CNN_models/MobileNetV2_no_series/cp.ckpt\",\n",
    "                                                 save_weights_only=True,\n",
    "                                                 verbose=1)"
   ]
  },
  {
   "cell_type": "code",
   "execution_count": 20,
   "id": "3aa1513c",
   "metadata": {},
   "outputs": [
    {
     "name": "stdout",
     "output_type": "stream",
     "text": [
      "Epoch 1/5\n",
      "645/645 [==============================] - 225s 348ms/step - loss: 0.8792 - accuracy: 0.7336 - val_loss: 2.0289 - val_accuracy: 0.4481\n",
      "\n",
      "Epoch 00001: saving model to gs://dataset-gabon/train_val_test_csv_Siebren/CNN_models/MobileNetV2_no_series/cp.ckpt\n",
      "Epoch 2/5\n",
      "645/645 [==============================] - 225s 349ms/step - loss: 0.8667 - accuracy: 0.7384 - val_loss: 1.9507 - val_accuracy: 0.4683\n",
      "\n",
      "Epoch 00002: saving model to gs://dataset-gabon/train_val_test_csv_Siebren/CNN_models/MobileNetV2_no_series/cp.ckpt\n",
      "Epoch 3/5\n",
      "645/645 [==============================] - 225s 348ms/step - loss: 0.8527 - accuracy: 0.7421 - val_loss: 1.8803 - val_accuracy: 0.4800\n",
      "\n",
      "Epoch 00003: saving model to gs://dataset-gabon/train_val_test_csv_Siebren/CNN_models/MobileNetV2_no_series/cp.ckpt\n",
      "Epoch 4/5\n",
      "645/645 [==============================] - 225s 348ms/step - loss: 0.8404 - accuracy: 0.7461 - val_loss: 1.9053 - val_accuracy: 0.4847\n",
      "\n",
      "Epoch 00004: saving model to gs://dataset-gabon/train_val_test_csv_Siebren/CNN_models/MobileNetV2_no_series/cp.ckpt\n",
      "Epoch 5/5\n",
      "645/645 [==============================] - 225s 348ms/step - loss: 0.8387 - accuracy: 0.7450 - val_loss: 1.8290 - val_accuracy: 0.4971\n",
      "\n",
      "Epoch 00005: saving model to gs://dataset-gabon/train_val_test_csv_Siebren/CNN_models/MobileNetV2_no_series/cp.ckpt\n"
     ]
    }
   ],
   "source": [
    "history = model.fit(train_ds,\n",
    "            epochs=5,\n",
    "#             steps_per_epoch=(len(train_data) // BATCH_SIZE),\n",
    "            validation_data=eval_ds,\n",
    "            callbacks=[cp_callback]\n",
    "#             validation_steps=(len(val_data) // BATCH_SIZE)\n",
    "         )"
   ]
  },
  {
   "cell_type": "code",
   "execution_count": 22,
   "id": "09b9b2c2",
   "metadata": {},
   "outputs": [],
   "source": [
    "model.trainable = True\n",
    "BATCH_SIZE =64"
   ]
  },
  {
   "cell_type": "code",
   "execution_count": 21,
   "id": "e91ad034",
   "metadata": {},
   "outputs": [],
   "source": [
    "opt = tf.keras.optimizers.Adam(learning_rate=0.0005)\n",
    "\n",
    "model.compile(\n",
    "    optimizer=opt,\n",
    "    loss='categorical_crossentropy',\n",
    "    metrics=['accuracy'])\n",
    "\n",
    "train_ds = load_dataset(train_path, BATCH_SIZE)\n",
    "eval_ds = load_dataset(eval_path, BATCH_SIZE, training=False)"
   ]
  },
  {
   "cell_type": "code",
   "execution_count": 22,
   "id": "ad0f20ee",
   "metadata": {},
   "outputs": [
    {
     "name": "stdout",
     "output_type": "stream",
     "text": [
      "3807/3807 [==============================] - 5128s 1s/step - loss: 0.8524 - accuracy: 0.7243 - val_loss: 0.7259 - val_accuracy: 0.7663\n"
     ]
    }
   ],
   "source": [
    "history = model.fit(train_ds,\n",
    "            epochs=1,\n",
    "#             steps_per_epoch=(len(train_data) // BATCH_SIZE),\n",
    "            validation_data=eval_ds,\n",
    "#             validation_steps=(len(val_data) // BATCH_SIZE)\n",
    "         )"
   ]
  },
  {
   "cell_type": "markdown",
   "id": "25326fac",
   "metadata": {},
   "source": [
    "# save model"
   ]
  },
  {
   "cell_type": "code",
   "execution_count": 24,
   "id": "f3afcc39",
   "metadata": {},
   "outputs": [
    {
     "name": "stdout",
     "output_type": "stream",
     "text": [
      "INFO:tensorflow:Assets written to: gs://dataset-gabon/train_val_test_csv_Siebren/CNN_models/MobileNetV2/model.H5/assets\n"
     ]
    }
   ],
   "source": [
    "tf.keras.models.save_model(model, \"gs://dataset-gabon/train_val_test_csv_Siebren/CNN_models/MobileNetV2/model.H5\", \n",
    "                           include_optimizer=False)"
   ]
  },
  {
   "cell_type": "markdown",
   "id": "fdeef152",
   "metadata": {},
   "source": [
    "# Test myanmarData"
   ]
  },
  {
   "cell_type": "code",
   "execution_count": 21,
   "id": "fc1615b5",
   "metadata": {},
   "outputs": [],
   "source": [
    "test_data_myan = pd.read_csv(\"gs://dataset-gabon/train_val_test_csv_Siebren/test_data_myanmar_siebren.csv\", header=None)\n",
    "test_path_myan = \"gs://dataset-gabon/train_val_test_csv_Siebren/test_data_myanmar_siebren.csv\"\n",
    "test_ds_myan = load_dataset(test_path_myan, BATCH_SIZE, training=False)"
   ]
  },
  {
   "cell_type": "code",
   "execution_count": 22,
   "id": "4bf6905d",
   "metadata": {},
   "outputs": [
    {
     "name": "stdout",
     "output_type": "stream",
     "text": [
      "62/62 [==============================] - 310s 5s/step - loss: 3.5578 - accuracy: 0.2736\n",
      "0.2735635042190552\n"
     ]
    }
   ],
   "source": [
    "test_loss, test_acc = model.evaluate(test_ds_myan, verbose=1, steps=len(test_data_myan)//BATCH_SIZE)\n",
    "print(test_acc)"
   ]
  },
  {
   "cell_type": "code",
   "execution_count": 37,
   "id": "0b07b5b7",
   "metadata": {},
   "outputs": [
    {
     "name": "stderr",
     "output_type": "stream",
     "text": [
      "62it [05:11,  5.03s/it]"
     ]
    },
    {
     "name": "stdout",
     "output_type": "stream",
     "text": [
      "7936\n"
     ]
    },
    {
     "name": "stderr",
     "output_type": "stream",
     "text": [
      "\n"
     ]
    }
   ],
   "source": [
    "PREDICTIONS = len(test_data_myan)//BATCH_SIZE\n",
    "y_test = []\n",
    "counter = 0\n",
    "for i in tqdm(test_ds_myan):\n",
    "    if counter < PREDICTIONS:\n",
    "        counter += 1\n",
    "        for j in i[1]:\n",
    "            y_test.append(np.where(j == True)[0][0])\n",
    "    else:\n",
    "        break\n",
    "print(len(y_test))"
   ]
  },
  {
   "cell_type": "code",
   "execution_count": 39,
   "id": "aa360653",
   "metadata": {},
   "outputs": [],
   "source": [
    "y_pred = model.predict(test_ds_myan, steps=PREDICTIONS)\n",
    "predicted_categories = tf.argmax(y_pred, axis=1)\n",
    "true_categories = y_test\n",
    "y, idx = tf.unique(predicted_categories)\n",
    "cm = confusion_matrix(predicted_categories, true_categories, normalize=\"pred\", labels=y.numpy())\n",
    "cmn = cm\n",
    "df_cm = pd.DataFrame(cmn, index = [CLASS_NAMES[i] for i in y.numpy()],\n",
    "                  columns = [CLASS_NAMES[i] for i in y.numpy()])"
   ]
  },
  {
   "cell_type": "code",
   "execution_count": 40,
   "id": "659c2223",
   "metadata": {},
   "outputs": [
    {
     "data": {
      "text/plain": [
       "<AxesSubplot:>"
      ]
     },
     "execution_count": 40,
     "metadata": {},
     "output_type": "execute_result"
    },
    {
     "data": {
      "image/png": "[encoded data removed]",
      "text/plain": [
       "<Figure size 1440x1008 with 2 Axes>"
      ]
     },
     "metadata": {
      "needs_background": "light"
     },
     "output_type": "display_data"
    }
   ],
   "source": [
    "plt.figure(figsize = (20,14))\n",
    "sn.heatmap(df_cm, annot=True, fmt='.2f')"
   ]
  },
  {
   "cell_type": "code",
   "execution_count": 286,
   "id": "9a2cecf5",
   "metadata": {},
   "outputs": [
    {
     "name": "stdout",
     "output_type": "stream",
     "text": [
      "correct: {'Blank': 2386, 'Human': 3085, 'Elephant_African': 80}\n",
      "total:   {'Blank': 3421, 'Human': 4424, 'Elephant_African': 91}\n"
     ]
    }
   ],
   "source": [
    "correctly_classified = {}\n",
    "total = {}\n",
    "for idx, i in enumerate(true_categories):\n",
    "    if i == predicted_categories[idx].numpy():\n",
    "        if CLASS_NAMES[i] in correctly_classified.keys():\n",
    "            correctly_classified[CLASS_NAMES[i]] += 1\n",
    "        else:\n",
    "            correctly_classified[CLASS_NAMES[i]] = 1\n",
    "    \n",
    "    if CLASS_NAMES[i] in total.keys():\n",
    "        total[CLASS_NAMES[i]] += 1\n",
    "    else:\n",
    "        total[CLASS_NAMES[i]] = 1\n",
    "            \n",
    "print(\"correct:\", correctly_classified)\n",
    "print(\"total:  \", total)"
   ]
  },
  {
   "cell_type": "code",
   "execution_count": 291,
   "id": "59d73bab",
   "metadata": {},
   "outputs": [
    {
     "ename": "KeyboardInterrupt",
     "evalue": "",
     "output_type": "error",
     "traceback": [
      "\u001b[0;31m---------------------------------------------------------------------------\u001b[0m",
      "\u001b[0;31mKeyboardInterrupt\u001b[0m                         Traceback (most recent call last)",
      "\u001b[0;32m<ipython-input-291-038880faf255>\u001b[0m in \u001b[0;36m<module>\u001b[0;34m\u001b[0m\n\u001b[1;32m      1\u001b[0m \u001b[0mplt\u001b[0m\u001b[0;34m.\u001b[0m\u001b[0mion\u001b[0m\u001b[0;34m(\u001b[0m\u001b[0;34m)\u001b[0m\u001b[0;34m\u001b[0m\u001b[0;34m\u001b[0m\u001b[0m\n\u001b[1;32m      2\u001b[0m \u001b[0mindex\u001b[0m \u001b[0;34m=\u001b[0m \u001b[0;36m0\u001b[0m\u001b[0;34m\u001b[0m\u001b[0;34m\u001b[0m\u001b[0m\n\u001b[0;32m----> 3\u001b[0;31m \u001b[0;32mfor\u001b[0m \u001b[0midx\u001b[0m\u001b[0;34m,\u001b[0m \u001b[0mi\u001b[0m \u001b[0;32min\u001b[0m \u001b[0menumerate\u001b[0m\u001b[0;34m(\u001b[0m\u001b[0mtest_ds_myan\u001b[0m\u001b[0;34m)\u001b[0m\u001b[0;34m:\u001b[0m\u001b[0;34m\u001b[0m\u001b[0;34m\u001b[0m\u001b[0m\n\u001b[0m\u001b[1;32m      4\u001b[0m     \u001b[0;32mfor\u001b[0m \u001b[0mj\u001b[0m \u001b[0;32min\u001b[0m \u001b[0mi\u001b[0m\u001b[0;34m[\u001b[0m\u001b[0;36m0\u001b[0m\u001b[0;34m]\u001b[0m\u001b[0;34m:\u001b[0m\u001b[0;34m\u001b[0m\u001b[0;34m\u001b[0m\u001b[0m\n\u001b[1;32m      5\u001b[0m         \u001b[0;32mif\u001b[0m \u001b[0my_pred\u001b[0m\u001b[0;34m[\u001b[0m\u001b[0mindex\u001b[0m\u001b[0;34m]\u001b[0m\u001b[0;34m[\u001b[0m\u001b[0my_pred\u001b[0m\u001b[0;34m[\u001b[0m\u001b[0mindex\u001b[0m\u001b[0;34m]\u001b[0m\u001b[0;34m.\u001b[0m\u001b[0margmax\u001b[0m\u001b[0;34m(\u001b[0m\u001b[0;34m)\u001b[0m\u001b[0;34m]\u001b[0m \u001b[0;34m>\u001b[0m \u001b[0;36m0.90\u001b[0m\u001b[0;34m:\u001b[0m\u001b[0;34m\u001b[0m\u001b[0;34m\u001b[0m\u001b[0m\n",
      "\u001b[0;32m/opt/conda/lib/python3.7/site-packages/tensorflow/python/data/ops/iterator_ops.py\u001b[0m in \u001b[0;36m__next__\u001b[0;34m(self)\u001b[0m\n\u001b[1;32m    745\u001b[0m   \u001b[0;32mdef\u001b[0m \u001b[0m__next__\u001b[0m\u001b[0;34m(\u001b[0m\u001b[0mself\u001b[0m\u001b[0;34m)\u001b[0m\u001b[0;34m:\u001b[0m\u001b[0;34m\u001b[0m\u001b[0;34m\u001b[0m\u001b[0m\n\u001b[1;32m    746\u001b[0m     \u001b[0;32mtry\u001b[0m\u001b[0;34m:\u001b[0m\u001b[0;34m\u001b[0m\u001b[0;34m\u001b[0m\u001b[0m\n\u001b[0;32m--> 747\u001b[0;31m       \u001b[0;32mreturn\u001b[0m \u001b[0mself\u001b[0m\u001b[0;34m.\u001b[0m\u001b[0m_next_internal\u001b[0m\u001b[0;34m(\u001b[0m\u001b[0;34m)\u001b[0m\u001b[0;34m\u001b[0m\u001b[0;34m\u001b[0m\u001b[0m\n\u001b[0m\u001b[1;32m    748\u001b[0m     \u001b[0;32mexcept\u001b[0m \u001b[0merrors\u001b[0m\u001b[0;34m.\u001b[0m\u001b[0mOutOfRangeError\u001b[0m\u001b[0;34m:\u001b[0m\u001b[0;34m\u001b[0m\u001b[0;34m\u001b[0m\u001b[0m\n\u001b[1;32m    749\u001b[0m       \u001b[0;32mraise\u001b[0m \u001b[0mStopIteration\u001b[0m\u001b[0;34m\u001b[0m\u001b[0;34m\u001b[0m\u001b[0m\n",
      "\u001b[0;32m/opt/conda/lib/python3.7/site-packages/tensorflow/python/data/ops/iterator_ops.py\u001b[0m in \u001b[0;36m_next_internal\u001b[0;34m(self)\u001b[0m\n\u001b[1;32m    731\u001b[0m           \u001b[0mself\u001b[0m\u001b[0;34m.\u001b[0m\u001b[0m_iterator_resource\u001b[0m\u001b[0;34m,\u001b[0m\u001b[0;34m\u001b[0m\u001b[0;34m\u001b[0m\u001b[0m\n\u001b[1;32m    732\u001b[0m           \u001b[0moutput_types\u001b[0m\u001b[0;34m=\u001b[0m\u001b[0mself\u001b[0m\u001b[0;34m.\u001b[0m\u001b[0m_flat_output_types\u001b[0m\u001b[0;34m,\u001b[0m\u001b[0;34m\u001b[0m\u001b[0;34m\u001b[0m\u001b[0m\n\u001b[0;32m--> 733\u001b[0;31m           output_shapes=self._flat_output_shapes)\n\u001b[0m\u001b[1;32m    734\u001b[0m \u001b[0;34m\u001b[0m\u001b[0m\n\u001b[1;32m    735\u001b[0m       \u001b[0;32mtry\u001b[0m\u001b[0;34m:\u001b[0m\u001b[0;34m\u001b[0m\u001b[0;34m\u001b[0m\u001b[0m\n",
      "\u001b[0;32m/opt/conda/lib/python3.7/site-packages/tensorflow/python/ops/gen_dataset_ops.py\u001b[0m in \u001b[0;36miterator_get_next\u001b[0;34m(iterator, output_types, output_shapes, name)\u001b[0m\n\u001b[1;32m   2574\u001b[0m       _result = pywrap_tfe.TFE_Py_FastPathExecute(\n\u001b[1;32m   2575\u001b[0m         \u001b[0m_ctx\u001b[0m\u001b[0;34m,\u001b[0m \u001b[0;34m\"IteratorGetNext\"\u001b[0m\u001b[0;34m,\u001b[0m \u001b[0mname\u001b[0m\u001b[0;34m,\u001b[0m \u001b[0miterator\u001b[0m\u001b[0;34m,\u001b[0m \u001b[0;34m\"output_types\"\u001b[0m\u001b[0;34m,\u001b[0m \u001b[0moutput_types\u001b[0m\u001b[0;34m,\u001b[0m\u001b[0;34m\u001b[0m\u001b[0;34m\u001b[0m\u001b[0m\n\u001b[0;32m-> 2576\u001b[0;31m         \"output_shapes\", output_shapes)\n\u001b[0m\u001b[1;32m   2577\u001b[0m       \u001b[0;32mreturn\u001b[0m \u001b[0m_result\u001b[0m\u001b[0;34m\u001b[0m\u001b[0;34m\u001b[0m\u001b[0m\n\u001b[1;32m   2578\u001b[0m     \u001b[0;32mexcept\u001b[0m \u001b[0m_core\u001b[0m\u001b[0;34m.\u001b[0m\u001b[0m_NotOkStatusException\u001b[0m \u001b[0;32mas\u001b[0m \u001b[0me\u001b[0m\u001b[0;34m:\u001b[0m\u001b[0;34m\u001b[0m\u001b[0;34m\u001b[0m\u001b[0m\n",
      "\u001b[0;31mKeyboardInterrupt\u001b[0m: "
     ]
    }
   ],
   "source": [
    "plt.ion()\n",
    "index = 0\n",
    "for idx, i in enumerate(test_ds_myan):   \n",
    "    for j in i[0]:\n",
    "#         if y_pred[index][y_pred[index].argmax()] > 0.90:\n",
    "        if predicted_categories[index].numpy() != true_categories[index]:\n",
    "            plt.figure(figsize = (16,16))\n",
    "            plt.imshow(j)\n",
    "            plt.show()\n",
    "            print(\"Prediction: \"+ str(CLASS_NAMES[predicted_categories[index].numpy()]))\n",
    "            print(\"True: \"+ str(CLASS_NAMES[true_categories[index]]))\n",
    "        index+=1"
   ]
  },
  {
   "cell_type": "markdown",
   "id": "42f23609",
   "metadata": {},
   "source": [
    "# Results"
   ]
  },
  {
   "cell_type": "code",
   "execution_count": 24,
   "id": "29e140d1",
   "metadata": {},
   "outputs": [],
   "source": [
    "test_path = \"gs://dataset-gabon/train_val_test_csv_Siebren/test_data_siebren.csv\"\n",
    "test_ds = load_dataset(test_path, BATCH_SIZE, training=False)"
   ]
  },
  {
   "cell_type": "code",
   "execution_count": 25,
   "id": "e2a65450",
   "metadata": {},
   "outputs": [
    {
     "name": "stdout",
     "output_type": "stream",
     "text": [
      "340/340 [==============================] - 95s 279ms/step - loss: 3.3882 - accuracy: 0.3286\n",
      "0.3286305069923401\n"
     ]
    }
   ],
   "source": [
    "test_loss, test_acc = model.evaluate(test_ds, verbose=1, steps=len(test_data)//BATCH_SIZE)\n",
    "print(test_acc)"
   ]
  },
  {
   "cell_type": "code",
   "execution_count": 26,
   "id": "1d29b514",
   "metadata": {},
   "outputs": [],
   "source": [
    "# plot results\n",
    "# plt.plot(history.history['accuracy'], label='train_accuracy')\n",
    "# plt.plot(history.history['val_accuracy'], label = 'val_accuracy')\n",
    "# plt.xlabel('Epoch')\n",
    "# plt.ylabel('Accuracy')\n",
    "# plt.ylim([0, 1])\n",
    "# plt.legend(loc='lower right')"
   ]
  },
  {
   "cell_type": "code",
   "execution_count": 27,
   "id": "11c9489d",
   "metadata": {},
   "outputs": [],
   "source": [
    "# plot results\n",
    "# plt.plot(history.history['loss'], label='train_loss')\n",
    "# plt.plot(history.history['val_loss'], label = 'train_loss')\n",
    "# plt.xlabel('Epoch')\n",
    "# plt.ylabel('Loss')\n",
    "# plt.ylim([0, 10])\n",
    "# plt.legend(loc='lower right')"
   ]
  },
  {
   "cell_type": "code",
   "execution_count": 28,
   "id": "e29820b9",
   "metadata": {},
   "outputs": [
    {
     "name": "stderr",
     "output_type": "stream",
     "text": [
      "340it [00:58,  5.77it/s]"
     ]
    },
    {
     "name": "stdout",
     "output_type": "stream",
     "text": [
      "43520\n"
     ]
    },
    {
     "name": "stderr",
     "output_type": "stream",
     "text": [
      "\n"
     ]
    }
   ],
   "source": [
    "PREDICTIONS = len(test_data)//BATCH_SIZE\n",
    "y_test = []\n",
    "counter = 0\n",
    "for i in tqdm(test_ds):\n",
    "    if counter < PREDICTIONS:\n",
    "        counter += 1\n",
    "        for j in i[1]:\n",
    "            y_test.append(np.where(j == True)[0][0])\n",
    "    else:\n",
    "        break\n",
    "print(len(y_test))"
   ]
  },
  {
   "cell_type": "code",
   "execution_count": 29,
   "id": "2937f43c",
   "metadata": {},
   "outputs": [],
   "source": [
    "y_pred = model.predict(test_ds, steps=PREDICTIONS)\n",
    "predicted_categories = tf.argmax(y_pred, axis=1)\n",
    "true_categories = y_test\n",
    "cm = confusion_matrix(predicted_categories, true_categories, normalize=\"true\")\n",
    "df_cm = pd.DataFrame(cm, index = [i for i in CLASS_NAMES],\n",
    "                  columns = [i for i in CLASS_NAMES])"
   ]
  }],
   "metadata": {
    "environment": {
     "name": "tf2-gpu.2-4.m65",
     "type": "gcloud",
     "uri": "gcr.io/deeplearning-platform-release/tf2-gpu.2-4:m65"
    },
    "kernelspec": {
     "display_name": "Python 3",
     "language": "python",
     "name": "python3"
    },
    "language_info": {
     "codemirror_mode": {
      "name": "ipython",
      "version": 3
     },
     "file_extension": ".py",
     "mimetype": "text/x-python",
     "name": "python",
     "nbconvert_exporter": "python",
     "pygments_lexer": "ipython3",
     "version": "3.7.10"
    }
   },
   "nbformat": 4,
   "nbformat_minor": 5
  }
