{
 "cells": [
  {
   "cell_type": "code",
   "execution_count": 1,
   "id": "9786e0d3",
   "metadata": {},
   "outputs": [],
   "source": [
    "from sklearn.metrics import classification_report\n",
    "import tensorflow as tf\n",
    "from tensorflow import keras\n",
    "from tensorflow.keras import datasets, layers, models\n",
    "from tensorflow.keras.callbacks import TensorBoard\n",
    "import numpy as np\n",
    "import matplotlib.pyplot as plt\n",
    "import pandas as pd\n",
    "import os\n",
    "from tqdm import tqdm\n",
    "import pathlib\n",
    "from google.cloud import storage\n",
    "import tensorflow_hub as hub\n",
    "from io import BytesIO\n",
    "from tensorflow.python.lib.io import file_io"
   ]
  },
  {
   "cell_type": "code",
   "execution_count": 2,
   "id": "a346534f",
   "metadata": {},
   "outputs": [],
   "source": [
    "train_data = pd.read_csv(\"gs://dataset-gabon/train_val_test_csv_Siebren/train_data_siebren.csv\", header=None)\n",
    "val_data = pd.read_csv(\"gs://dataset-gabon/train_val_test_csv_Siebren/val_data_siebren.csv\", header=None)\n",
    "test_data = pd.read_csv(\"gs://dataset-gabon/train_val_test_csv_Siebren/test_data_siebren.csv\", header=None)\n",
    "CLASS_NAMES = train_data[0].unique()"
   ]
  },
  {
   "cell_type": "code",
   "execution_count": 3,
   "id": "be19d52a",
   "metadata": {},
   "outputs": [],
   "source": [
    "new_data = train_data.copy()\n",
    "new_data[\"Augment\"] = False\n",
    "grouped = train_data.groupby(0).nunique()\n",
    "max_images = max(grouped[1])"
   ]
  },
  {
   "cell_type": "code",
   "execution_count": 8,
   "id": "8c1cc08a",
   "metadata": {},
   "outputs": [
    {
     "name": "stderr",
     "output_type": "stream",
     "text": [
      "243628it [49:51, 81.43it/s]\n"
     ]
    }
   ],
   "source": [
    "# for img in tqdm(train_data.iterrows()):\n",
    "#     new_data = new_data.append({0:img[1][0], 1:img[1][1], \"Augment\": True}, ignore_index=True)"
   ]
  },
  {
   "cell_type": "code",
   "execution_count": 40,
   "id": "0ee57c30",
   "metadata": {},
   "outputs": [
    {
     "name": "stderr",
     "output_type": "stream",
     "text": [
      "243628it [1:38:30, 41.22it/s] \n"
     ]
    }
   ],
   "source": [
    "for img in tqdm(train_data.iterrows()):\n",
    "    new_img = max_images // grouped.loc[img[1][0]][1]\n",
    "    if new_img > 1:\n",
    "        for i in range(new_img-1):\n",
    "            new_data = new_data.append({0:img[1][0], 1:img[1][1], \"Augment\": True}, ignore_index=True)"
   ]
  },
  {
   "cell_type": "code",
   "execution_count": 9,
   "id": "ac1cf93a",
   "metadata": {},
   "outputs": [],
   "source": [
    "new_data = new_data.sample(frac=1).reset_index(drop=True)\n"
   ]
  },
  {
   "cell_type": "code",
   "execution_count": 10,
   "id": "79c480ad",
   "metadata": {},
   "outputs": [
    {
     "data": {
      "text/plain": [
       "'../gabon-dataset/data_training_rescaled_extra/1305658.jpg'"
      ]
     },
     "execution_count": 10,
     "metadata": {},
     "output_type": "execute_result"
    }
   ],
   "source": [
    "train_data[1][0]"
   ]
  },
  {
   "cell_type": "code",
   "execution_count": 11,
   "id": "4861fffd",
   "metadata": {},
   "outputs": [],
   "source": [
    "new_data.to_csv(\"gs://dataset-gabon/train_val_test_csv_Siebren/train_data_augment_siebren.csv\", index=None, header=None)"
   ]
  },
  {
   "cell_type": "code",
   "execution_count": 40,
   "id": "c4a68de6",
   "metadata": {},
   "outputs": [],
   "source": [
    "data = pd.read_csv(\"gs://dataset-gabon/train_val_test_csv_Siebren/train_data_augment_siebren.csv\", header=None)"
   ]
  },
  {
   "cell_type": "code",
   "execution_count": 42,
   "id": "7959981c",
   "metadata": {},
   "outputs": [
    {
     "name": "stderr",
     "output_type": "stream",
     "text": [
      "/opt/conda/lib/python3.7/site-packages/ipykernel_launcher.py:2: SettingWithCopyWarning: \n",
      "A value is trying to be set on a copy of a slice from a DataFrame.\n",
      "Try using .loc[row_indexer,col_indexer] = value instead\n",
      "\n",
      "See the caveats in the documentation: https://pandas.pydata.org/pandas-docs/stable/user_guide/indexing.html#returning-a-view-versus-a-copy\n",
      "  \n"
     ]
    },
    {
     "data": {
      "text/html": [
       "<div>\n",
       "<style scoped>\n",
       "    .dataframe tbody tr th:only-of-type {\n",
       "        vertical-align: middle;\n",
       "    }\n",
       "\n",
       "    .dataframe tbody tr th {\n",
       "        vertical-align: top;\n",
       "    }\n",
       "\n",
       "    .dataframe thead th {\n",
       "        text-align: right;\n",
       "    }\n",
       "</style>\n",
       "<table border=\"1\" class=\"dataframe\">\n",
       "  <thead>\n",
       "    <tr style=\"text-align: right;\">\n",
       "      <th></th>\n",
       "      <th>1</th>\n",
       "    </tr>\n",
       "    <tr>\n",
       "      <th>0</th>\n",
       "      <th></th>\n",
       "    </tr>\n",
       "  </thead>\n",
       "  <tbody>\n",
       "    <tr>\n",
       "      <th>Bird</th>\n",
       "      <td>23710</td>\n",
       "    </tr>\n",
       "    <tr>\n",
       "      <th>Blank</th>\n",
       "      <td>23956</td>\n",
       "    </tr>\n",
       "    <tr>\n",
       "      <th>Buffalo_African</th>\n",
       "      <td>24130</td>\n",
       "    </tr>\n",
       "    <tr>\n",
       "      <th>Cat_Golden</th>\n",
       "      <td>24840</td>\n",
       "    </tr>\n",
       "    <tr>\n",
       "      <th>Chevrotain_Water</th>\n",
       "      <td>24227</td>\n",
       "    </tr>\n",
       "    <tr>\n",
       "      <th>Chimpanzee</th>\n",
       "      <td>24798</td>\n",
       "    </tr>\n",
       "    <tr>\n",
       "      <th>Civet_African_Palm</th>\n",
       "      <td>24344</td>\n",
       "    </tr>\n",
       "    <tr>\n",
       "      <th>Duiker_Blue</th>\n",
       "      <td>23997</td>\n",
       "    </tr>\n",
       "    <tr>\n",
       "      <th>Duiker_Red</th>\n",
       "      <td>23945</td>\n",
       "    </tr>\n",
       "    <tr>\n",
       "      <th>Duiker_Yellow_Backed</th>\n",
       "      <td>23074</td>\n",
       "    </tr>\n",
       "    <tr>\n",
       "      <th>Elephant_African</th>\n",
       "      <td>24054</td>\n",
       "    </tr>\n",
       "    <tr>\n",
       "      <th>Genet</th>\n",
       "      <td>23530</td>\n",
       "    </tr>\n",
       "    <tr>\n",
       "      <th>Gorilla</th>\n",
       "      <td>24894</td>\n",
       "    </tr>\n",
       "    <tr>\n",
       "      <th>Guineafowl_Black</th>\n",
       "      <td>18806</td>\n",
       "    </tr>\n",
       "    <tr>\n",
       "      <th>Guineafowl_Crested</th>\n",
       "      <td>24339</td>\n",
       "    </tr>\n",
       "    <tr>\n",
       "      <th>Hog_Red_River</th>\n",
       "      <td>18020</td>\n",
       "    </tr>\n",
       "    <tr>\n",
       "      <th>Human</th>\n",
       "      <td>24104</td>\n",
       "    </tr>\n",
       "    <tr>\n",
       "      <th>Leopard_African</th>\n",
       "      <td>24320</td>\n",
       "    </tr>\n",
       "    <tr>\n",
       "      <th>Mandrillus</th>\n",
       "      <td>21224</td>\n",
       "    </tr>\n",
       "    <tr>\n",
       "      <th>Mongoose</th>\n",
       "      <td>24990</td>\n",
       "    </tr>\n",
       "    <tr>\n",
       "      <th>Mongoose_Black_Footed</th>\n",
       "      <td>24196</td>\n",
       "    </tr>\n",
       "    <tr>\n",
       "      <th>Monkey</th>\n",
       "      <td>24200</td>\n",
       "    </tr>\n",
       "    <tr>\n",
       "      <th>Pangolin</th>\n",
       "      <td>24612</td>\n",
       "    </tr>\n",
       "    <tr>\n",
       "      <th>Porcupine_Brush_Tailed</th>\n",
       "      <td>20428</td>\n",
       "    </tr>\n",
       "    <tr>\n",
       "      <th>Rail_Nkulengu</th>\n",
       "      <td>23058</td>\n",
       "    </tr>\n",
       "    <tr>\n",
       "      <th>Rat_Giant</th>\n",
       "      <td>25013</td>\n",
       "    </tr>\n",
       "    <tr>\n",
       "      <th>Rodent</th>\n",
       "      <td>24450</td>\n",
       "    </tr>\n",
       "    <tr>\n",
       "      <th>Squirrel</th>\n",
       "      <td>17062</td>\n",
       "    </tr>\n",
       "  </tbody>\n",
       "</table>\n",
       "</div>"
      ],
      "text/plain": [
       "                            1\n",
       "0                            \n",
       "Bird                    23710\n",
       "Blank                   23956\n",
       "Buffalo_African         24130\n",
       "Cat_Golden              24840\n",
       "Chevrotain_Water        24227\n",
       "Chimpanzee              24798\n",
       "Civet_African_Palm      24344\n",
       "Duiker_Blue             23997\n",
       "Duiker_Red              23945\n",
       "Duiker_Yellow_Backed    23074\n",
       "Elephant_African        24054\n",
       "Genet                   23530\n",
       "Gorilla                 24894\n",
       "Guineafowl_Black        18806\n",
       "Guineafowl_Crested      24339\n",
       "Hog_Red_River           18020\n",
       "Human                   24104\n",
       "Leopard_African         24320\n",
       "Mandrillus              21224\n",
       "Mongoose                24990\n",
       "Mongoose_Black_Footed   24196\n",
       "Monkey                  24200\n",
       "Pangolin                24612\n",
       "Porcupine_Brush_Tailed  20428\n",
       "Rail_Nkulengu           23058\n",
       "Rat_Giant               25013\n",
       "Rodent                  24450\n",
       "Squirrel                17062"
      ]
     },
     "execution_count": 42,
     "metadata": {},
     "output_type": "execute_result"
    }
   ],
   "source": [
    "test = data[[0,1]]\n",
    "test[1] = 1\n",
    "test.groupby(0).sum()"
   ]
  },
  {
   "cell_type": "code",
   "execution_count": 43,
   "id": "e8de87ef",
   "metadata": {},
   "outputs": [
    {
     "name": "stdout",
     "output_type": "stream",
     "text": [
      "90.0\n"
     ]
    }
   ],
   "source": [
    "print(24840/276)"
   ]
  },
  {
   "cell_type": "markdown",
   "id": "ab24c618",
   "metadata": {},
   "source": [
    "# make csv myanmar"
   ]
  },
  {
   "cell_type": "code",
   "execution_count": 52,
   "id": "a1132366",
   "metadata": {},
   "outputs": [],
   "source": [
    "df = pd.DataFrame(columns=['class', 'link'])"
   ]
  },
  {
   "cell_type": "code",
   "execution_count": 53,
   "id": "c7254a07",
   "metadata": {},
   "outputs": [
    {
     "name": "stderr",
     "output_type": "stream",
     "text": [
      "4628it [00:12, 372.35it/s]"
     ]
    },
    {
     "name": "stdout",
     "output_type": "stream",
     "text": [
      "blank:  0\n",
      "human:  0\n",
      "elephant:  0\n"
     ]
    },
    {
     "name": "stderr",
     "output_type": "stream",
     "text": [
      "\n"
     ]
    }
   ],
   "source": [
    "blank = 0\n",
    "human = 0\n",
    "elephant = 0\n",
    "\n",
    "client = storage.Client()\n",
    "for blob in tqdm(client.list_blobs('dataset-myanmar-renamed', prefix='human-elephant-blank')):\n",
    "#     print(blob.name)\n",
    "\n",
    "    if blob.name[21:26] == \"blank\":\n",
    "        df = df.append({\"class\": \"Blank\", 'link': \"gs://dataset-myanmar-renamed/\"+str(blob.name)}, ignore_index=True)\n",
    "    elif blob.name[21:30] == \"elephants\":\n",
    "        df = df.append({\"class\": \"Elephant_African\", 'link': \"gs://dataset-myanmar-renamed/\"+str(blob.name)}, ignore_index=True)\n",
    "    elif blob.name[21:27] == \"humans\":\n",
    "        df = df.append({\"class\": \"Human\", 'link': \"gs://dataset-myanmar-renamed/\"+str(blob.name)}, ignore_index=True)\n",
    "print(\"blank: \", blank)\n",
    "print(\"human: \", human)\n",
    "print(\"elephant: \", elephant)"
   ]
  },
  {
   "cell_type": "code",
   "execution_count": 10,
   "id": "3ba2ed2b",
   "metadata": {},
   "outputs": [],
   "source": [
    "# df = pd.DataFrame(columns=['class', 'link'])"
   ]
  },
  {
   "cell_type": "code",
   "execution_count": 5,
   "id": "b8db64b6",
   "metadata": {},
   "outputs": [
    {
     "name": "stderr",
     "output_type": "stream",
     "text": [
      "7937it [00:22, 360.11it/s]\n"
     ]
    }
   ],
   "source": [
    "# from google.cloud import storage\n",
    "\n",
    "# df = pd.DataFrame(columns=['class', 'link'])\n",
    "\n",
    "# count = 0\n",
    "# client = storage.Client()\n",
    "# for blob in tqdm(client.list_blobs('dataset-myanmar-renamed', prefix='renamed')):\n",
    "#     if count != 0:\n",
    "#         if blob.name[8:-13] != \"Elephant\" and blob.name[8:-17] != \"Blank\" and blob.name[8:-13] != \"Blank\":\n",
    "#             df = df.append({\"class\": \"Human\", 'link': \"gs://dataset-myanmar-renamed/\"+str(blob.name)}, ignore_index=True)\n",
    "#         elif blob.name[8:-13] == \"Elephant\":\n",
    "#             df = df.append({\"class\": \"Elephant_African\", 'link': \"gs://dataset-myanmar-renamed/\"+str(blob.name)}, ignore_index=True)\n",
    "#         elif blob.name[8:-17] == \"Blank\" or blob.name[8:-13] == \"Blank\":\n",
    "#             df = df.append({\"class\": \"Blank\", 'link': \"gs://dataset-myanmar-renamed/\"+str(blob.name)}, ignore_index=True)\n",
    "#     count+=1"
   ]
  },
  {
   "cell_type": "code",
   "execution_count": 55,
   "id": "6fef9470",
   "metadata": {},
   "outputs": [],
   "source": [
    "drop_list = []\n",
    "for i in df.iterrows():\n",
    "    if str(i[1][1][-3:]).lower() != \"jpg\":\n",
    "        drop_list.append(i[0])\n",
    "df = df.drop(drop_list)"
   ]
  },
  {
   "cell_type": "code",
   "execution_count": 56,
   "id": "3d3c6a19",
   "metadata": {},
   "outputs": [],
   "source": [
    "df = df.sample(frac=1).reset_index(drop=True)"
   ]
  },
  {
   "cell_type": "code",
   "execution_count": 57,
   "id": "e989359f",
   "metadata": {},
   "outputs": [],
   "source": [
    "df.to_csv(\"gs://dataset-gabon/train_val_test_csv_Siebren/test_data_myanmar_siebren.csv\", index=None, header=None)"
   ]
  },
  {
   "cell_type": "markdown",
   "id": "4025334b",
   "metadata": {},
   "source": [
    "# Change remove low count images"
   ]
  },
  {
   "cell_type": "code",
   "execution_count": 46,
   "id": "eb0100ce",
   "metadata": {},
   "outputs": [],
   "source": [
    "images = pd.read_csv(\"gs://dataset-gabon/train_val_test_csv_Siebren/test_data_siebren.csv\", header=None)"
   ]
  },
  {
   "cell_type": "code",
   "execution_count": 47,
   "id": "46cd8cf6",
   "metadata": {},
   "outputs": [
    {
     "name": "stderr",
     "output_type": "stream",
     "text": [
      "43612it [00:10, 4288.34it/s]\n"
     ]
    }
   ],
   "source": [
    "for idx, image in tqdm(images.iterrows()):\n",
    "    if image[0] != \"Blank\" and image[0] != \"Human\" and image[0] != \"Elephant_African\":\n",
    "        images.iloc[idx][0] = \"Other_animal\""
   ]
  },
  {
   "cell_type": "code",
   "execution_count": 48,
   "id": "04dede14",
   "metadata": {},
   "outputs": [],
   "source": [
    "images.to_csv(\"gs://dataset-gabon/train_val_test_csv_Siebren/test_data_4classes_siebren.csv\", index=None, header=None)"
   ]
  },
  {
   "cell_type": "code",
   "execution_count": 49,
   "id": "ad878003",
   "metadata": {},
   "outputs": [
    {
     "data": {
      "text/plain": [
       "1750.0"
      ]
     },
     "execution_count": 49,
     "metadata": {},
     "output_type": "execute_result"
    }
   ],
   "source": [
    "224000/128"
   ]
  },
  {
   "cell_type": "markdown",
   "id": "effc8074",
   "metadata": {},
   "source": [
    "# remove labels"
   ]
  },
  {
   "cell_type": "code",
   "execution_count": 6,
   "id": "41c40e37",
   "metadata": {},
   "outputs": [
    {
     "name": "stderr",
     "output_type": "stream",
     "text": [
      "243628it [02:45, 1472.95it/s]\n",
      "60907it [00:20, 2981.51it/s]\n",
      "43612it [00:13, 3222.67it/s]\n"
     ]
    }
   ],
   "source": [
    "def remove_labels(data):\n",
    "    for idx, row in tqdm(data.iterrows()):\n",
    "        if row[0] != \"Blank\" and row[0] != \"Human\" and row[0] != \"Elephant_African\":\n",
    "            data[0][idx] = \"Other_animal\"\n",
    "        \n",
    "remove_labels(train_data)\n",
    "remove_labels(val_data)\n",
    "remove_labels(test_data)"
   ]
  },
  {
   "cell_type": "code",
   "execution_count": 13,
   "id": "9a998780",
   "metadata": {},
   "outputs": [],
   "source": [
    "new_data = val_data.copy()\n",
    "new_data[\"Augment\"] = False\n",
    "grouped = train_data.groupby(0).nunique()\n",
    "max_images = max(grouped[1])"
   ]
  },
  {
   "cell_type": "code",
   "execution_count": 8,
   "id": "c4352671",
   "metadata": {},
   "outputs": [
    {
     "name": "stderr",
     "output_type": "stream",
     "text": [
      "59428it [13:19, 67.88it/s] IOPub message rate exceeded.\n",
      "The notebook server will temporarily stop sending output\n",
      "to the client in order to avoid crashing it.\n",
      "To change this limit, set the config variable\n",
      "`--NotebookApp.iopub_msg_rate_limit`.\n",
      "\n",
      "Current values:\n",
      "NotebookApp.iopub_msg_rate_limit=1000.0 (msgs/sec)\n",
      "NotebookApp.rate_limit_window=3.0 (secs)\n",
      "\n",
      "131067it [34:58, 48.00it/s] IOPub message rate exceeded.\n",
      "The notebook server will temporarily stop sending output\n",
      "to the client in order to avoid crashing it.\n",
      "To change this limit, set the config variable\n",
      "`--NotebookApp.iopub_msg_rate_limit`.\n",
      "\n",
      "Current values:\n",
      "NotebookApp.iopub_msg_rate_limit=1000.0 (msgs/sec)\n",
      "NotebookApp.rate_limit_window=3.0 (secs)\n",
      "\n",
      "243628it [1:21:08, 50.05it/s]\n"
     ]
    }
   ],
   "source": [
    "for img in tqdm(train_data.iterrows()):\n",
    "    new_img = max_images // grouped.loc[img[1][0]][1]\n",
    "    if new_img > 1:\n",
    "        for i in range(new_img-1):\n",
    "            new_data = new_data.append({0:img[1][0], 1:img[1][1], \"Augment\": True}, ignore_index=True)"
   ]
  },
  {
   "cell_type": "code",
   "execution_count": 11,
   "id": "c9ae8ad7",
   "metadata": {},
   "outputs": [],
   "source": [
    "new_data = new_data.sample(frac=1).reset_index(drop=True)"
   ]
  },
  {
   "cell_type": "code",
   "execution_count": 14,
   "id": "98aba9b9",
   "metadata": {},
   "outputs": [],
   "source": [
    "new_data.to_csv(\"gs://dataset-gabon/train_val_test_csv_Siebren/val_data_siebren_4classes_balanced.csv\", header=None, index=None)\n",
    "# val_data.to_csv(\"gs://dataset-gabon/train_val_test_csv_Siebren/val_data_siebren_4classes.csv\", header=None, index=None)\n",
    "# test_data.to_csv(\"gs://dataset-gabon/train_val_test_csv_Siebren/test_data_siebren_4classes.csv\", header=None, index=None)"
   ]
  },
  {
   "cell_type": "markdown",
   "id": "8ba07f56",
   "metadata": {},
   "source": [
    "# remove low count images 2"
   ]
  },
  {
   "cell_type": "code",
   "execution_count": 3,
   "id": "214c0e36",
   "metadata": {},
   "outputs": [],
   "source": [
    "train = pd.read_csv(\"gs://dataset-gabon/train_val_test_csv_Siebren/train_data_siebren.csv\", header=None)\n",
    "val = pd.read_csv(\"gs://dataset-gabon/train_val_test_csv_Siebren/val_data_siebren.csv\", header=None)"
   ]
  },
  {
   "cell_type": "code",
   "execution_count": 4,
   "id": "ecbef256",
   "metadata": {},
   "outputs": [],
   "source": [
    "total = train.append(val)\n",
    "total = total.reset_index(drop=True)"
   ]
  },
  {
   "cell_type": "code",
   "execution_count": 5,
   "id": "0d7c9559",
   "metadata": {},
   "outputs": [
    {
     "data": {
      "text/html": [
       "<div>\n",
       "<style scoped>\n",
       "    .dataframe tbody tr th:only-of-type {\n",
       "        vertical-align: middle;\n",
       "    }\n",
       "\n",
       "    .dataframe tbody tr th {\n",
       "        vertical-align: top;\n",
       "    }\n",
       "\n",
       "    .dataframe thead th {\n",
       "        text-align: right;\n",
       "    }\n",
       "</style>\n",
       "<table border=\"1\" class=\"dataframe\">\n",
       "  <thead>\n",
       "    <tr style=\"text-align: right;\">\n",
       "      <th></th>\n",
       "      <th>1</th>\n",
       "    </tr>\n",
       "    <tr>\n",
       "      <th>0</th>\n",
       "      <th></th>\n",
       "    </tr>\n",
       "  </thead>\n",
       "  <tbody>\n",
       "    <tr>\n",
       "      <th>Bird</th>\n",
       "      <td>5956</td>\n",
       "    </tr>\n",
       "    <tr>\n",
       "      <th>Blank</th>\n",
       "      <td>30000</td>\n",
       "    </tr>\n",
       "    <tr>\n",
       "      <th>Buffalo_African</th>\n",
       "      <td>5976</td>\n",
       "    </tr>\n",
       "    <tr>\n",
       "      <th>Cat_Golden</th>\n",
       "      <td>331</td>\n",
       "    </tr>\n",
       "    <tr>\n",
       "      <th>Chevrotain_Water</th>\n",
       "      <td>4317</td>\n",
       "    </tr>\n",
       "    <tr>\n",
       "      <th>Chimpanzee</th>\n",
       "      <td>5170</td>\n",
       "    </tr>\n",
       "    <tr>\n",
       "      <th>Civet_African_Palm</th>\n",
       "      <td>875</td>\n",
       "    </tr>\n",
       "    <tr>\n",
       "      <th>Duiker_Blue</th>\n",
       "      <td>30000</td>\n",
       "    </tr>\n",
       "    <tr>\n",
       "      <th>Duiker_Red</th>\n",
       "      <td>29999</td>\n",
       "    </tr>\n",
       "    <tr>\n",
       "      <th>Duiker_Yellow_Backed</th>\n",
       "      <td>14346</td>\n",
       "    </tr>\n",
       "    <tr>\n",
       "      <th>Elephant_African</th>\n",
       "      <td>29999</td>\n",
       "    </tr>\n",
       "    <tr>\n",
       "      <th>Genet</th>\n",
       "      <td>2978</td>\n",
       "    </tr>\n",
       "    <tr>\n",
       "      <th>Gorilla</th>\n",
       "      <td>585</td>\n",
       "    </tr>\n",
       "    <tr>\n",
       "      <th>Guineafowl_Black</th>\n",
       "      <td>11744</td>\n",
       "    </tr>\n",
       "    <tr>\n",
       "      <th>Guineafowl_Crested</th>\n",
       "      <td>1447</td>\n",
       "    </tr>\n",
       "    <tr>\n",
       "      <th>Hog_Red_River</th>\n",
       "      <td>22530</td>\n",
       "    </tr>\n",
       "    <tr>\n",
       "      <th>Human</th>\n",
       "      <td>29999</td>\n",
       "    </tr>\n",
       "    <tr>\n",
       "      <th>Leopard_African</th>\n",
       "      <td>1495</td>\n",
       "    </tr>\n",
       "    <tr>\n",
       "      <th>Mandrillus</th>\n",
       "      <td>6679</td>\n",
       "    </tr>\n",
       "    <tr>\n",
       "      <th>Mongoose</th>\n",
       "      <td>5194</td>\n",
       "    </tr>\n",
       "    <tr>\n",
       "      <th>Mongoose_Black_Footed</th>\n",
       "      <td>1311</td>\n",
       "    </tr>\n",
       "    <tr>\n",
       "      <th>Monkey</th>\n",
       "      <td>3850</td>\n",
       "    </tr>\n",
       "    <tr>\n",
       "      <th>Pangolin</th>\n",
       "      <td>740</td>\n",
       "    </tr>\n",
       "    <tr>\n",
       "      <th>Porcupine_Brush_Tailed</th>\n",
       "      <td>12790</td>\n",
       "    </tr>\n",
       "    <tr>\n",
       "      <th>Rail_Nkulengu</th>\n",
       "      <td>3263</td>\n",
       "    </tr>\n",
       "    <tr>\n",
       "      <th>Rat_Giant</th>\n",
       "      <td>31357</td>\n",
       "    </tr>\n",
       "    <tr>\n",
       "      <th>Rodent</th>\n",
       "      <td>1020</td>\n",
       "    </tr>\n",
       "    <tr>\n",
       "      <th>Squirrel</th>\n",
       "      <td>10584</td>\n",
       "    </tr>\n",
       "  </tbody>\n",
       "</table>\n",
       "</div>"
      ],
      "text/plain": [
       "                            1\n",
       "0                            \n",
       "Bird                     5956\n",
       "Blank                   30000\n",
       "Buffalo_African          5976\n",
       "Cat_Golden                331\n",
       "Chevrotain_Water         4317\n",
       "Chimpanzee               5170\n",
       "Civet_African_Palm        875\n",
       "Duiker_Blue             30000\n",
       "Duiker_Red              29999\n",
       "Duiker_Yellow_Backed    14346\n",
       "Elephant_African        29999\n",
       "Genet                    2978\n",
       "Gorilla                   585\n",
       "Guineafowl_Black        11744\n",
       "Guineafowl_Crested       1447\n",
       "Hog_Red_River           22530\n",
       "Human                   29999\n",
       "Leopard_African          1495\n",
       "Mandrillus               6679\n",
       "Mongoose                 5194\n",
       "Mongoose_Black_Footed    1311\n",
       "Monkey                   3850\n",
       "Pangolin                  740\n",
       "Porcupine_Brush_Tailed  12790\n",
       "Rail_Nkulengu            3263\n",
       "Rat_Giant               31357\n",
       "Rodent                   1020\n",
       "Squirrel                10584"
      ]
     },
     "execution_count": 5,
     "metadata": {},
     "output_type": "execute_result"
    }
   ],
   "source": [
    "total.groupby(0).nunique()"
   ]
  },
  {
   "cell_type": "markdown",
   "id": "b13ef1b5",
   "metadata": {},
   "source": [
    "small_animal = ['Squirrel', 'Rodent', 'Chevrotain_Water', 'Porcupine_Brush_Tailed', 'Mongoose', 'Genet', 'Mongoose_Black_Footed', 'Civet_African_Palm', 'Pangolin', \"Rat_Giant\"]\n",
    "Monkey = ['Monkey', 'Mandrillus', 'Chimpanzee', 'Gorilla']\n",
    "duiker = ['Duiker_Blue', 'Duiker_Yellow_Backed', Duiker_Red]\n",
    "Bird = ['Rail_Nkulengu', 'Bird', 'Guineafowl_Crested']\n",
    "Hog_Red_River\n",
    "Human\n",
    "Elephant_African\n",
    "Leopard_African\n",
    "Buffalo_African\n",
    "Cat_Golden <- removed"
   ]
  },
  {
   "cell_type": "code",
   "execution_count": null,
   "id": "b45686e8",
   "metadata": {},
   "outputs": [
    {
     "name": "stderr",
     "output_type": "stream",
     "text": [
      "12631it [00:02, 7718.58it/s]"
     ]
    }
   ],
   "source": [
    "def remove_labels(data):\n",
    "#     pop_list = []\n",
    "    for idx, row in tqdm(data.iterrows()):\n",
    "        if row[0] in ['Squirrel', 'Rodent', 'Chevrotain_Water', 'Porcupine_Brush_Tailed', 'Mongoose', 'Genet', 'Mongoose_Black_Footed', 'Civet_African_Palm', 'Pangolin', \"Rat_Giant\"]:\n",
    "            data[0][idx] = \"Small_animal\"\n",
    "        elif row[0] in ['Monkey', 'Mandrillus', 'Chimpanzee', 'Gorilla']:\n",
    "            data[0][idx] = \"Monkey\"\n",
    "        elif row[0] in ['Duiker_Blue', 'Duiker_Yellow_Backed', \"Duiker_Red\"]:\n",
    "            data[0][idx] = \"Duiker\"\n",
    "        elif row[0] in ['Rail_Nkulengu', 'Bird', 'Guineafowl_Crested', \"Guineafowl_Black\"]:\n",
    "            data[0][idx] = \"Bird\"\n",
    "        elif row[0] in ['Cat_Golden', 'Leopard_African']:\n",
    "            data[0][idx] = \"Big cat\"\n",
    "        else:\n",
    "            pass\n",
    "#     data.drop(data.index[pop_list], inplace=True)\n",
    "        \n",
    "# remove_labels(train_data)\n",
    "# remove_labels(val_data)\n",
    "# remove_labels(test_data)"
   ]
  },
  {
   "cell_type": "code",
   "execution_count": 31,
   "id": "ebac4be5",
   "metadata": {},
   "outputs": [
    {
     "data": {
      "text/html": [
       "<div>\n",
       "<style scoped>\n",
       "    .dataframe tbody tr th:only-of-type {\n",
       "        vertical-align: middle;\n",
       "    }\n",
       "\n",
       "    .dataframe tbody tr th {\n",
       "        vertical-align: top;\n",
       "    }\n",
       "\n",
       "    .dataframe thead th {\n",
       "        text-align: right;\n",
       "    }\n",
       "</style>\n",
       "<table border=\"1\" class=\"dataframe\">\n",
       "  <thead>\n",
       "    <tr style=\"text-align: right;\">\n",
       "      <th></th>\n",
       "      <th>0</th>\n",
       "      <th>1</th>\n",
       "    </tr>\n",
       "  </thead>\n",
       "  <tbody>\n",
       "    <tr>\n",
       "      <th>0</th>\n",
       "      <td>Duiker</td>\n",
       "      <td>../gabon-dataset/data_training_rescaled_extra/...</td>\n",
       "    </tr>\n",
       "    <tr>\n",
       "      <th>1</th>\n",
       "      <td>Bird</td>\n",
       "      <td>../gabon-dataset/data_training_rescaled_extra/...</td>\n",
       "    </tr>\n",
       "    <tr>\n",
       "      <th>2</th>\n",
       "      <td>Bird</td>\n",
       "      <td>../gabon-dataset/data_training_rescaled_extra/...</td>\n",
       "    </tr>\n",
       "    <tr>\n",
       "      <th>3</th>\n",
       "      <td>Duiker</td>\n",
       "      <td>../gabon-dataset/data_training_rescaled_extra/...</td>\n",
       "    </tr>\n",
       "    <tr>\n",
       "      <th>4</th>\n",
       "      <td>Elephant_African</td>\n",
       "      <td>../gabon-dataset/data_training_rescaled_extra/...</td>\n",
       "    </tr>\n",
       "    <tr>\n",
       "      <th>...</th>\n",
       "      <td>...</td>\n",
       "      <td>...</td>\n",
       "    </tr>\n",
       "    <tr>\n",
       "      <th>60902</th>\n",
       "      <td>Duiker</td>\n",
       "      <td>../gabon-dataset/data_training_rescaled_extra/...</td>\n",
       "    </tr>\n",
       "    <tr>\n",
       "      <th>60903</th>\n",
       "      <td>Duiker</td>\n",
       "      <td>../gabon-dataset/data_training_rescaled_extra/...</td>\n",
       "    </tr>\n",
       "    <tr>\n",
       "      <th>60904</th>\n",
       "      <td>Human</td>\n",
       "      <td>../gabon-dataset/data_training_rescaled_extra/...</td>\n",
       "    </tr>\n",
       "    <tr>\n",
       "      <th>60905</th>\n",
       "      <td>Bird</td>\n",
       "      <td>../gabon-dataset/data_training_rescaled_extra/...</td>\n",
       "    </tr>\n",
       "    <tr>\n",
       "      <th>60906</th>\n",
       "      <td>Elephant_African</td>\n",
       "      <td>../gabon-dataset/data_training_rescaled_extra/...</td>\n",
       "    </tr>\n",
       "  </tbody>\n",
       "</table>\n",
       "<p>60907 rows × 2 columns</p>\n",
       "</div>"
      ],
      "text/plain": [
       "                      0                                                  1\n",
       "0                Duiker  ../gabon-dataset/data_training_rescaled_extra/...\n",
       "1                  Bird  ../gabon-dataset/data_training_rescaled_extra/...\n",
       "2                  Bird  ../gabon-dataset/data_training_rescaled_extra/...\n",
       "3                Duiker  ../gabon-dataset/data_training_rescaled_extra/...\n",
       "4      Elephant_African  ../gabon-dataset/data_training_rescaled_extra/...\n",
       "...                 ...                                                ...\n",
       "60902            Duiker  ../gabon-dataset/data_training_rescaled_extra/...\n",
       "60903            Duiker  ../gabon-dataset/data_training_rescaled_extra/...\n",
       "60904             Human  ../gabon-dataset/data_training_rescaled_extra/...\n",
       "60905              Bird  ../gabon-dataset/data_training_rescaled_extra/...\n",
       "60906  Elephant_African  ../gabon-dataset/data_training_rescaled_extra/...\n",
       "\n",
       "[60907 rows x 2 columns]"
      ]
     },
     "execution_count": 31,
     "metadata": {},
     "output_type": "execute_result"
    }
   ],
   "source": [
    "val_data"
   ]
  },
  {
   "cell_type": "code",
   "execution_count": 32,
   "id": "776cb34a",
   "metadata": {},
   "outputs": [],
   "source": [
    "test_data.to_csv(\"gs://dataset-gabon/train_val_test_csv_Siebren/val_data_siebren_grouped_classes_balanced2.csv\", header=None, index=None)"
   ]
  },
  {
   "cell_type": "code",
   "execution_count": 27,
   "id": "487862c8",
   "metadata": {},
   "outputs": [],
   "source": [
    "new_data = val_data.copy()\n",
    "new_data[\"Augment\"] = False\n",
    "grouped = train_data.groupby(0).nunique()\n",
    "max_images = max(grouped[1])"
   ]
  },
  {
   "cell_type": "code",
   "execution_count": 15,
   "id": "5fce3665",
   "metadata": {},
   "outputs": [
    {
     "name": "stderr",
     "output_type": "stream",
     "text": [
      "243628it [1:04:40, 62.79it/s] \n"
     ]
    }
   ],
   "source": [
    "for img in tqdm(val_data.iterrows()):\n",
    "    new_img = max_images // grouped.loc[img[1][0]][1]\n",
    "    if new_img > 1:\n",
    "        for i in range(new_img-1):\n",
    "            new_data = new_data.append({0:img[1][0], 1:img[1][1], \"Augment\": True}, ignore_index=True)"
   ]
  },
  {
   "cell_type": "code",
   "execution_count": 16,
   "id": "20078440",
   "metadata": {},
   "outputs": [],
   "source": [
    "new_data = new_data.sample(frac=1).reset_index(drop=True)"
   ]
  },
  {
   "cell_type": "code",
   "execution_count": 24,
   "id": "a960f68a",
   "metadata": {},
   "outputs": [],
   "source": [
    "new_data.to_csv(\"gs://dataset-gabon/train_val_test_csv_Siebren/train_data_siebren_grouped_classes_balanced.csv\", header=None, index=None)"
   ]
  },
  {
   "cell_type": "code",
   "execution_count": 12,
   "id": "5d5039b8",
   "metadata": {},
   "outputs": [],
   "source": [
    "train_data.to_csv(\"gs://dataset-gabon/train_val_test_csv_Siebren/train_data_siebren_grouped_classes2.csv\", header=None, index=None)\n",
    "val_data.to_csv(\"gs://dataset-gabon/train_val_test_csv_Siebren/val_data_siebren_grouped_classes2.csv\", header=None, index=None)\n",
    "test_data.to_csv(\"gs://dataset-gabon/train_val_test_csv_Siebren/test_data_siebren_grouped_classes2.csv\", header=None, index=None)"
   ]
  },
  {
   "cell_type": "code",
   "execution_count": 10,
   "id": "f4dc9ad3",
   "metadata": {},
   "outputs": [
    {
     "data": {
      "text/html": [
       "<div>\n",
       "<style scoped>\n",
       "    .dataframe tbody tr th:only-of-type {\n",
       "        vertical-align: middle;\n",
       "    }\n",
       "\n",
       "    .dataframe tbody tr th {\n",
       "        vertical-align: top;\n",
       "    }\n",
       "\n",
       "    .dataframe thead th {\n",
       "        text-align: right;\n",
       "    }\n",
       "</style>\n",
       "<table border=\"1\" class=\"dataframe\">\n",
       "  <thead>\n",
       "    <tr style=\"text-align: right;\">\n",
       "      <th></th>\n",
       "      <th>1</th>\n",
       "    </tr>\n",
       "    <tr>\n",
       "      <th>0</th>\n",
       "      <th></th>\n",
       "    </tr>\n",
       "  </thead>\n",
       "  <tbody>\n",
       "    <tr>\n",
       "      <th>Bird</th>\n",
       "      <td>17866</td>\n",
       "    </tr>\n",
       "    <tr>\n",
       "      <th>Blank</th>\n",
       "      <td>23956</td>\n",
       "    </tr>\n",
       "    <tr>\n",
       "      <th>Buffalo_African</th>\n",
       "      <td>4826</td>\n",
       "    </tr>\n",
       "    <tr>\n",
       "      <th>Duiker</th>\n",
       "      <td>59479</td>\n",
       "    </tr>\n",
       "    <tr>\n",
       "      <th>Elephant_African</th>\n",
       "      <td>24054</td>\n",
       "    </tr>\n",
       "    <tr>\n",
       "      <th>Hog_Red_River</th>\n",
       "      <td>18020</td>\n",
       "    </tr>\n",
       "    <tr>\n",
       "      <th>Human</th>\n",
       "      <td>24104</td>\n",
       "    </tr>\n",
       "    <tr>\n",
       "      <th>Leopard_African</th>\n",
       "      <td>1216</td>\n",
       "    </tr>\n",
       "    <tr>\n",
       "      <th>Monkey</th>\n",
       "      <td>12925</td>\n",
       "    </tr>\n",
       "    <tr>\n",
       "      <th>Small_animal</th>\n",
       "      <td>56906</td>\n",
       "    </tr>\n",
       "  </tbody>\n",
       "</table>\n",
       "</div>"
      ],
      "text/plain": [
       "                      1\n",
       "0                      \n",
       "Bird              17866\n",
       "Blank             23956\n",
       "Buffalo_African    4826\n",
       "Duiker            59479\n",
       "Elephant_African  24054\n",
       "Hog_Red_River     18020\n",
       "Human             24104\n",
       "Leopard_African    1216\n",
       "Monkey            12925\n",
       "Small_animal      56906"
      ]
     },
     "execution_count": 10,
     "metadata": {},
     "output_type": "execute_result"
    }
   ],
   "source": [
    "train_data.groupby(0).nunique()"
   ]
  },
  {
   "cell_type": "code",
   "execution_count": 8,
   "id": "59a071ba",
   "metadata": {},
   "outputs": [],
   "source": [
    "def show_img(filename):\n",
    "    img = tf.io.read_file(filename=filename)\n",
    "    # Convert the compressed string to a 3D uint8 tensor.\n",
    "    img = tf.image.decode_jpeg(img, channels=3)\n",
    "    # Use `convert_image_dtype` to convert to floats in the [0,1] range.\n",
    "    img = tf.image.convert_image_dtype(img, tf.float32)\n",
    "    plt.figure(figsize = (16,16))\n",
    "    plt.imshow(img)\n",
    "    return img"
   ]
  },
  {
   "cell_type": "code",
   "execution_count": 1,
   "id": "6a0e2207",
   "metadata": {},
   "outputs": [
    {
     "data": {
      "text/plain": [
       "16.666666666666668"
      ]
     },
     "execution_count": 1,
     "metadata": {},
     "output_type": "execute_result"
    }
   ],
   "source": [
    "1000/60"
   ]
  },
  {
   "cell_type": "code",
   "execution_count": 9,
   "id": "0e41cef8",
   "metadata": {},
   "outputs": [
    {
     "data": {
      "image/png": "[encoded data removed]",
      "text/plain": [
       "<Figure size 1152x1152 with 1 Axes>"
      ]
     },
     "metadata": {
      "needs_background": "light"
     },
     "output_type": "display_data"
    }
   ],
   "source": [
    "img = show_img(total[1][302290])"
   ]
  },
  {
   "cell_type": "code",
   "execution_count": 10,
   "id": "3ae0ed02",
   "metadata": {},
   "outputs": [
    {
     "data": {
      "text/plain": [
       "<tf.Tensor: shape=(384, 480, 3), dtype=float32, numpy=\n",
       "array([[[0.        , 0.        , 0.        ],\n",
       "        [0.        , 0.        , 0.        ],\n",
       "        [0.        , 0.        , 0.        ],\n",
       "        ...,\n",
       "        [0.        , 0.        , 0.        ],\n",
       "        [0.        , 0.        , 0.        ],\n",
       "        [0.03529412, 0.03529412, 0.03529412]],\n",
       "\n",
       "       [[0.04313726, 0.04313726, 0.04313726],\n",
       "        [0.        , 0.        , 0.        ],\n",
       "        [0.        , 0.        , 0.        ],\n",
       "        ...,\n",
       "        [0.05490196, 0.05490196, 0.05490196],\n",
       "        [0.01960784, 0.01960784, 0.01960784],\n",
       "        [0.        , 0.        , 0.        ]],\n",
       "\n",
       "       [[0.        , 0.        , 0.        ],\n",
       "        [0.        , 0.        , 0.        ],\n",
       "        [0.03529412, 0.03529412, 0.03529412],\n",
       "        ...,\n",
       "        [0.        , 0.        , 0.        ],\n",
       "        [0.        , 0.        , 0.        ],\n",
       "        [0.02745098, 0.02745098, 0.02745098]],\n",
       "\n",
       "       ...,\n",
       "\n",
       "       [[0.01176471, 0.01176471, 0.01176471],\n",
       "        [0.02745098, 0.02745098, 0.02745098],\n",
       "        [0.        , 0.        , 0.        ],\n",
       "        ...,\n",
       "        [0.        , 0.00392157, 0.        ],\n",
       "        [0.        , 0.00784314, 0.        ],\n",
       "        [0.        , 0.01176471, 0.        ]],\n",
       "\n",
       "       [[0.        , 0.        , 0.        ],\n",
       "        [0.        , 0.        , 0.        ],\n",
       "        [0.01568628, 0.01568628, 0.01568628],\n",
       "        ...,\n",
       "        [0.        , 0.01568628, 0.        ],\n",
       "        [0.        , 0.01960784, 0.        ],\n",
       "        [0.        , 0.02352941, 0.        ]],\n",
       "\n",
       "       [[0.        , 0.        , 0.        ],\n",
       "        [0.01568628, 0.01568628, 0.01568628],\n",
       "        [0.        , 0.        , 0.        ],\n",
       "        ...,\n",
       "        [0.        , 0.02352941, 0.        ],\n",
       "        [0.        , 0.02745098, 0.        ],\n",
       "        [0.        , 0.03529412, 0.        ]]], dtype=float32)>"
      ]
     },
     "execution_count": 10,
     "metadata": {},
     "output_type": "execute_result"
    }
   ],
   "source": [
    "img"
   ]
  },
  {
   "cell_type": "markdown",
   "id": "9d2c2cb6",
   "metadata": {},
   "source": [
    "# plot"
   ]
  },
  {
   "cell_type": "code",
   "execution_count": null,
   "id": "8ad99e8c",
   "metadata": {},
   "outputs": [],
   "source": [
    "small_animal = ['Squirrel', 'Rodent', 'Chevrotain_Water', 'Porcupine_Brush_Tailed', 'Mongoose', 'Genet', 'Mongoose_Black_Footed', 'Civet_African_Palm', 'Pangolin', \"Rat_Giant\"]\n",
    "Monkey = ['Monkey', 'Mandrillus', 'Chimpanzee', 'Gorilla']\n",
    "duiker = ['Duiker_Blue', 'Duiker_Yellow_Backed']\n",
    "Bird = ['Rail_Nkulengu', 'Bird', 'Guineafowl_Crested']\n",
    "Hog_Red_River\n",
    "Human\n",
    "Elephant_African\n",
    "Leopard_African\n",
    "Buffalo_African\n",
    "Cat_Golden <- removed"
   ]
  },
  {
   "cell_type": "code",
   "execution_count": 1,
   "id": "59be27c7",
   "metadata": {},
   "outputs": [
    {
     "data": {
      "text/plain": [
       "{'Rat_Giant': 0.93,\n",
       " 'Squirrel': 0.12,\n",
       " 'Duiker_Red': 0.86,\n",
       " 'Rodent': 0.05,\n",
       " 'Human': 0.92,\n",
       " 'Guineafowl_Black': 0.68,\n",
       " 'Monkey': 0.17,\n",
       " 'Duiker_Blue': 0.82,\n",
       " 'Duiker_Yellow_Backed': 0.44,\n",
       " 'Elephant_African': 0.8,\n",
       " 'Rail_Nkulengu': 0.0,\n",
       " 'Bird': 0.08,\n",
       " 'Blank': 0.77,\n",
       " 'Mandrillus': 0.83,\n",
       " 'Chevrotain_Water': 0.13,\n",
       " 'Porcupine_Brush_Tailed': 0.31,\n",
       " 'Leopard_African': 0.85,\n",
       " 'Mongoose': 0.12,\n",
       " 'Hog_Red_River': 0.72,\n",
       " 'Chimpanzee': 0.5,\n",
       " 'Guineafowl_Crested': 0.35,\n",
       " 'Buffalo_African': 0.2,\n",
       " 'Genet': 0.3,\n",
       " 'Mongoose_Black_Footed': 0.12,\n",
       " 'Civet_African_Palm': 0.02,\n",
       " 'Pangolin': 0.03,\n",
       " 'Gorilla': 0.28,\n",
       " 'Cat_Golden': 0.03}"
      ]
     },
     "execution_count": 1,
     "metadata": {},
     "output_type": "execute_result"
    }
   ],
   "source": [
    "{'Rat_Giant':0.93, 'Squirrel':0.12, 'Duiker_Red':0.86, 'Rodent':0.05, 'Human':0.92,\n",
    "       'Guineafowl_Black':0.68, 'Monkey':0.17, 'Duiker_Blue':0.82,\n",
    "       'Duiker_Yellow_Backed':0.44, 'Elephant_African':0.80, 'Rail_Nkulengu':0.00,\n",
    "       'Bird':0.08, 'Blank':0.77, 'Mandrillus':0.83, 'Chevrotain_Water':0.13,\n",
    "       'Porcupine_Brush_Tailed':0.31, 'Leopard_African':0.85, 'Mongoose':0.12,\n",
    "       'Hog_Red_River':0.72, 'Chimpanzee':0.50, 'Guineafowl_Crested':0.35,\n",
    "       'Buffalo_African':0.20, 'Genet':0.30, 'Mongoose_Black_Footed':0.12,\n",
    "       'Civet_African_Palm':0.02, 'Pangolin':0.03, 'Gorilla':0.28, 'Cat_Golden':0.03}"
   ]
  },
  {
   "cell_type": "code",
   "execution_count": 1,
   "id": "30852d22",
   "metadata": {},
   "outputs": [
    {
     "data": {
      "text/plain": [
       "{'Rat_Giant': 0.75,\n",
       " 'Squirrel': 0.15,\n",
       " 'Duiker_Red': 0.6,\n",
       " 'Rodent': 0.11,\n",
       " 'Human': 0.8,\n",
       " 'Guineafowl_Black': 0.48,\n",
       " 'Monkey': 0.18,\n",
       " 'Duiker_Blue': 0.55,\n",
       " 'Duiker_Yellow_Backed': 0.6,\n",
       " 'Elephant_African': 0.7,\n",
       " 'Rail_Nkulengu': 0.0,\n",
       " 'Bird': 0.17,\n",
       " 'Blank': 0.75,\n",
       " 'Mandrillus': 0.88,\n",
       " 'Chevrotain_Water': 0.15,\n",
       " 'Porcupine_Brush_Tailed': 0.37,\n",
       " 'Leopard_African': 0.87,\n",
       " 'Mongoose': 0.34,\n",
       " 'Hog_Red_River': 0.54,\n",
       " 'Chimpanzee': 0.6,\n",
       " 'Guineafowl_Crested': 0.45,\n",
       " 'Buffalo_African': 0.41,\n",
       " 'Genet': 0.4,\n",
       " 'Mongoose_Black_Footed': 0.34,\n",
       " 'Civet_African_Palm': 0.12,\n",
       " 'Pangolin': 0.12,\n",
       " 'Gorilla': 0.78,\n",
       " 'Cat_Golden': 0.71}"
      ]
     },
     "execution_count": 1,
     "metadata": {},
     "output_type": "execute_result"
    }
   ],
   "source": [
    "{'Rat_Giant':0.75, 'Squirrel':0.15, 'Duiker_Red':0.60, 'Rodent':0.11, 'Human':0.80,\n",
    "       'Guineafowl_Black':0.48, 'Monkey':0.18, 'Duiker_Blue':0.55,\n",
    "       'Duiker_Yellow_Backed':0.60, 'Elephant_African':0.70, 'Rail_Nkulengu':0.00,\n",
    "       'Bird':0.17, 'Blank':0.75, 'Mandrillus':0.88, 'Chevrotain_Water':0.15,\n",
    "       'Porcupine_Brush_Tailed':0.37, 'Leopard_African':0.87, 'Mongoose':0.34,\n",
    "       'Hog_Red_River':0.54, 'Chimpanzee':0.60, 'Guineafowl_Crested':0.45,\n",
    "       'Buffalo_African':0.41, 'Genet':0.40, 'Mongoose_Black_Footed':0.34,\n",
    "       'Civet_African_Palm':0.12, 'Pangolin':0.12, 'Gorilla':0.78, 'Cat_Golden':0.71}"
   ]
  },
  {
   "cell_type": "code",
   "execution_count": null,
   "id": "5707c491",
   "metadata": {},
   "outputs": [],
   "source": []
  }
 ],
 "metadata": {
  "environment": {
   "name": "tf2-gpu.2-4.m65",
   "type": "gcloud",
   "uri": "gcr.io/deeplearning-platform-release/tf2-gpu.2-4:m65"
  },
  "kernelspec": {
   "display_name": "Python 3",
   "language": "python",
   "name": "python3"
  },
  "language_info": {
   "codemirror_mode": {
    "name": "ipython",
    "version": 3
   },
   "file_extension": ".py",
   "mimetype": "text/x-python",
   "name": "python",
   "nbconvert_exporter": "python",
   "pygments_lexer": "ipython3",
   "version": "3.7.10"
  }
 },
 "nbformat": 4,
 "nbformat_minor": 5
}
